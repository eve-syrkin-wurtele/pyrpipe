{
 "cells": [
  {
   "cell_type": "markdown",
   "metadata": {},
   "source": [
    "# Analysis of A. thaliana RNA-Seq data with pyrpipe \n",
    "Use A thaliana public RNA-Seq data to assemble transcripts."
   ]
  },
  {
   "cell_type": "code",
   "execution_count": 1,
   "metadata": {},
   "outputs": [
    {
     "name": "stdout",
     "output_type": "stream",
     "text": [
      "\u001b[94mLogs will be written to /home/usingh/work/urmi/hoap/pyrpipe/examples/pyrpipe_logs/2019-12-09-17_52_17_pyrpipeCMD.log, /home/usingh/work/urmi/hoap/pyrpipe/examples/pyrpipe_logs/2019-12-09-17_52_17_pyrpipeOUT.log, /home/usingh/work/urmi/hoap/pyrpipe/examples/pyrpipe_logs/2019-12-09-17_52_17_pyrpipeERR.log, /home/usingh/work/urmi/hoap/pyrpipe/examples/pyrpipe_logs/2019-12-09-17_52_17_pyrpipeEnv.log\u001b[0m\n"
     ]
    }
   ],
   "source": [
    "from pyrpipe import sra,mapping,assembly,qc,tools\n",
    "#First get the srr accessions of the runs. For this one can use the python package pysradb or R package sradb\n",
    "#i will consider following randomly selected accessions\n",
    "#athalRuns=['SRR976159','SRR978411','SRR978410','SRR971778','SRR1058116','SRR1058118','SRR1058121','SRR1058110','SRR1058120','SRR1058117','SRR1104134','SRR1104133','SRR1104135','SRR1104136','SRR1105825']\n",
    "athalRunsSmol=['SRR976159','SRR978411','SRR971778']"
   ]
  },
  {
   "cell_type": "markdown",
   "metadata": {},
   "source": [
    "## Download data and create SRA objects\n",
    "First we can donload all data to disk and save SRA objects to memory."
   ]
  },
  {
   "cell_type": "code",
   "execution_count": 2,
   "metadata": {},
   "outputs": [
    {
     "name": "stdout",
     "output_type": "stream",
     "text": [
      "\u001b[95mCreating SRA: SRR976159\u001b[0m\n",
      "\u001b[95mDownloading SRR976159 ...\u001b[0m\n",
      "\u001b[94m$ prefetch -O /home/usingh/work/urmi/hoap/test/athalData/sraData/SRR976159 SRR976159\u001b[0m\n",
      "\u001b[92mTime taken:0:00:01.433999\u001b[0m\n",
      "Downloaded file: /home/usingh/work/urmi/hoap/test/athalData/sraData/SRR976159/SRR976159.sra 381.9 MB \n",
      "\u001b[95mCreating SRA: SRR978411\u001b[0m\n",
      "\u001b[95mDownloading SRR978411 ...\u001b[0m\n",
      "\u001b[94m$ prefetch -O /home/usingh/work/urmi/hoap/test/athalData/sraData/SRR978411 SRR978411\u001b[0m\n",
      "\u001b[92mTime taken:0:00:00.494305\u001b[0m\n",
      "Downloaded file: /home/usingh/work/urmi/hoap/test/athalData/sraData/SRR978411/SRR978411.sra 347.2 MB \n",
      "\u001b[95mCreating SRA: SRR971778\u001b[0m\n",
      "\u001b[95mDownloading SRR971778 ...\u001b[0m\n",
      "\u001b[94m$ prefetch -O /home/usingh/work/urmi/hoap/test/athalData/sraData/SRR971778 SRR971778\u001b[0m\n",
      "\u001b[92mTime taken:0:00:00.579811\u001b[0m\n",
      "Downloaded file: /home/usingh/work/urmi/hoap/test/athalData/sraData/SRR971778/SRR971778.sra 434.4 MB \n",
      "Following runs downloaded:\n",
      "SRR976159\n",
      "SRR978411\n",
      "SRR971778\n"
     ]
    }
   ],
   "source": [
    "#set your working directory if you don't want to use the current working directory\n",
    "workingDir=\"/home/usingh/work/urmi/hoap/test/athalData/sraData\"\n",
    "##download all data in athalRuns\n",
    "sraObjects=[]\n",
    "\n",
    "for x in athalRunsSmol:\n",
    "    thisSraOb=sra.SRA(x,workingDir)\n",
    "    if thisSraOb.downloadSRAFile():\n",
    "        sraObjects.append(thisSraOb)\n",
    "    else:\n",
    "        print(\"Download failed:\"+x)\n",
    "\n",
    "print(\"Following runs downloaded:\")\n",
    "for ob in sraObjects:\n",
    "    print(ob.srrAccession)"
   ]
  },
  {
   "cell_type": "markdown",
   "metadata": {},
   "source": [
    "## Saving current session\n",
    "A reason why I have first downloaded the SRA files is that **in a typical HPC setting, one might have access to special data-transfer nodes**. These nodes could be used for downloading data efficiently but does not allow expensive computations. On the other hand data could also be downloaded from compute nodes **but you will burn most of your computing time/allocations for only downloading the data**. Thus it might be a good idea to download data separately and then start the processing.\n",
    "\n",
    "We can save the objects created with pyrpipe and restore our session later on a compute node."
   ]
  },
  {
   "cell_type": "code",
   "execution_count": 3,
   "metadata": {},
   "outputs": [
    {
     "name": "stdout",
     "output_type": "stream",
     "text": [
      "Session saved.\n"
     ]
    }
   ],
   "source": [
    "# save current session\n",
    "from pyrpipe import pyrpipe_utils\n",
    "pyrpipe_utils.savePyrpipeWorkspace(filename=\"mySession\",outDir=workingDir)"
   ]
  },
  {
   "cell_type": "markdown",
   "metadata": {},
   "source": [
    "## Processing sra files\n",
    " \n",
    " \n",
    " After downloading has finished, we can start processing the data.\n"
   ]
  },
  {
   "cell_type": "markdown",
   "metadata": {},
   "source": [
    "## Convert sra to fastq file\n"
   ]
  },
  {
   "cell_type": "code",
   "execution_count": 8,
   "metadata": {},
   "outputs": [
    {
     "name": "stdout",
     "output_type": "stream",
     "text": [
      "Executing:fasterq-dump -e 8 -f -t /home/usingh/work/urmi/hoap/test/athalData/sraData -O /home/usingh/work/urmi/hoap/test/athalData/sraData/SRR976159 -o SRR976159.fastq /home/usingh/work/urmi/hoap/test/athalData/sraData/SRR976159/SRR976159.sra\n",
      "spots read      : 4,728,806\n",
      "\n",
      "reads read      : 9,457,612\n",
      "\n",
      "reads written   : 9,457,612\n",
      "\n",
      "Deleting file: /home/usingh/work/urmi/hoap/test/athalData/sraData/SRR976159/SRR976159.sra \n",
      "rm /home/usingh/work/urmi/hoap/test/athalData/sraData/SRR976159/SRR976159.sra\n",
      "Executing:fasterq-dump -e 8 -f -t /home/usingh/work/urmi/hoap/test/athalData/sraData -O /home/usingh/work/urmi/hoap/test/athalData/sraData/SRR978411 -o SRR978411.fastq /home/usingh/work/urmi/hoap/test/athalData/sraData/SRR978411/SRR978411.sra\n",
      "spots read      : 4,200,625\n",
      "\n",
      "reads read      : 8,401,250\n",
      "\n",
      "reads written   : 8,401,250\n",
      "\n",
      "Deleting file: /home/usingh/work/urmi/hoap/test/athalData/sraData/SRR978411/SRR978411.sra \n",
      "rm /home/usingh/work/urmi/hoap/test/athalData/sraData/SRR978411/SRR978411.sra\n",
      "Executing:fasterq-dump -e 8 -f -t /home/usingh/work/urmi/hoap/test/athalData/sraData -O /home/usingh/work/urmi/hoap/test/athalData/sraData/SRR971778 -o SRR971778.fastq /home/usingh/work/urmi/hoap/test/athalData/sraData/SRR971778/SRR971778.sra\n",
      "spots read      : 5,432,321\n",
      "\n",
      "reads read      : 10,864,642\n",
      "\n",
      "reads written   : 10,864,642\n",
      "\n",
      "Deleting file: /home/usingh/work/urmi/hoap/test/athalData/sraData/SRR971778/SRR971778.sra \n",
      "rm /home/usingh/work/urmi/hoap/test/athalData/sraData/SRR971778/SRR971778.sra\n",
      "Fastq dump finished for:\n",
      "SRR976159\n",
      "SRR978411\n",
      "SRR971778\n"
     ]
    }
   ],
   "source": [
    "for ob in sraObjects:\n",
    "    ob.runFasterQDump(deleteSRA=True,**{\"-e\":\"8\",\"-f\":\"\",\"-t\":workingDir}) #use 8 threads\n",
    "\n",
    "print(\"Fastq dump finished for:\")\n",
    "for ob in sraObjects:\n",
    "    if ob.fastqFilesExistsLocally():\n",
    "        print(ob.srrAccession)"
   ]
  },
  {
   "cell_type": "code",
   "execution_count": null,
   "metadata": {},
   "outputs": [],
   "source": []
  }
 ],
 "metadata": {
  "kernelspec": {
   "display_name": "Python 3",
   "language": "python",
   "name": "python3"
  },
  "language_info": {
   "codemirror_mode": {
    "name": "ipython",
    "version": 3
   },
   "file_extension": ".py",
   "mimetype": "text/x-python",
   "name": "python",
   "nbconvert_exporter": "python",
   "pygments_lexer": "ipython3",
   "version": "3.7.5"
  }
 },
 "nbformat": 4,
 "nbformat_minor": 2
}
