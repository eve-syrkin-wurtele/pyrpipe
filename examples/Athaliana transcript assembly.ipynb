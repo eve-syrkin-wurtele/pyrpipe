{
 "cells": [
  {
   "cell_type": "markdown",
   "metadata": {},
   "source": [
    "# Analysis of A. thaliana RNA-Seq data with pyrpipe \n",
    "Use A thaliana public RNA-Seq data to assemble transcripts."
   ]
  },
  {
   "cell_type": "code",
   "execution_count": 8,
   "metadata": {},
   "outputs": [],
   "source": [
    "from pyrpipe import sra,mapping,assembly,qc,tools\n",
    "#First get the srr accessions of the runs. For this one can use the python package pysradb or R package sradb\n",
    "#i will consider following randomly selected accessions\n",
    "#athalRuns=['SRR976159','SRR978411','SRR978410','SRR971778','SRR1058116','SRR1058118','SRR1058121','SRR1058110','SRR1058120','SRR1058117','SRR1104134','SRR1104133','SRR1104135','SRR1104136','SRR1105825']\n",
    "athalRunsSmol=['SRR976159','SRR978411','SRR978410','SRR971778','SRR1058116','SRR1058118']"
   ]
  },
  {
   "cell_type": "markdown",
   "metadata": {},
   "source": [
    "## Download data and create SRA objects\n",
    "First we can donload all data to disk and save SRA objects to memory."
   ]
  },
  {
   "cell_type": "code",
   "execution_count": 9,
   "metadata": {},
   "outputs": [
    {
     "name": "stdout",
     "output_type": "stream",
     "text": [
      "\u001b[94mChecking prefetch...\u001b[0m\n",
      "\u001b[92mFound prefetch\u001b[0m\n",
      "\u001b[94mChecking fasterq-dump...\u001b[0m\n",
      "\u001b[92mFound fasterq-dump\u001b[0m\n",
      "\u001b[94mCreating SRA: SRR976159\u001b[0m\n",
      "Downloading SRR976159 ...\n",
      "Executing:prefetch -O /home/usingh/work/urmi/hoap/test/athalData/sraData/SRR976159 SRR976159\n",
      "\n",
      "\n",
      "2019-12-07T22:04:17 prefetch.2.9.3: 1) Downloading 'SRR976159'...\n",
      "\n",
      "2019-12-07T22:04:17 prefetch.2.9.3:  Downloading via https...\n",
      "\n",
      "2019-12-07T22:04:22 prefetch.2.9.3: 1) 'SRR976159' was downloaded successfully\n",
      "\n",
      "Downloaded file: /home/usingh/work/urmi/hoap/test/athalData/sraData/SRR976159/SRR976159.sra 381.9 MB \n",
      "\u001b[94mChecking prefetch...\u001b[0m\n",
      "\u001b[92mFound prefetch\u001b[0m\n",
      "\u001b[94mChecking fasterq-dump...\u001b[0m\n",
      "\u001b[92mFound fasterq-dump\u001b[0m\n",
      "\u001b[94mCreating SRA: SRR978411\u001b[0m\n",
      "Downloading SRR978411 ...\n",
      "Executing:prefetch -O /home/usingh/work/urmi/hoap/test/athalData/sraData/SRR978411 SRR978411\n",
      "\n",
      "\n",
      "2019-12-07T22:04:23 prefetch.2.9.3: 1) Downloading 'SRR978411'...\n",
      "\n",
      "2019-12-07T22:04:23 prefetch.2.9.3:  Downloading via https...\n",
      "\n",
      "2019-12-07T22:04:28 prefetch.2.9.3: 1) 'SRR978411' was downloaded successfully\n",
      "\n",
      "Downloaded file: /home/usingh/work/urmi/hoap/test/athalData/sraData/SRR978411/SRR978411.sra 347.2 MB \n",
      "\u001b[94mChecking prefetch...\u001b[0m\n",
      "\u001b[92mFound prefetch\u001b[0m\n",
      "\u001b[94mChecking fasterq-dump...\u001b[0m\n",
      "\u001b[92mFound fasterq-dump\u001b[0m\n",
      "\u001b[94mCreating SRA: SRR978410\u001b[0m\n",
      "Downloading SRR978410 ...\n",
      "Executing:prefetch -O /home/usingh/work/urmi/hoap/test/athalData/sraData/SRR978410 SRR978410\n",
      "\n",
      "\n",
      "2019-12-07T22:04:28 prefetch.2.9.3: 1) Downloading 'SRR978410'...\n",
      "\n",
      "2019-12-07T22:04:28 prefetch.2.9.3:  Downloading via https...\n",
      "\n",
      "2019-12-07T22:04:41 prefetch.2.9.3: 1) 'SRR978410' was downloaded successfully\n",
      "\n",
      "Downloaded file: /home/usingh/work/urmi/hoap/test/athalData/sraData/SRR978410/SRR978410.sra 959.9 MB \n",
      "\u001b[94mChecking prefetch...\u001b[0m\n",
      "\u001b[92mFound prefetch\u001b[0m\n",
      "\u001b[94mChecking fasterq-dump...\u001b[0m\n",
      "\u001b[92mFound fasterq-dump\u001b[0m\n",
      "\u001b[94mCreating SRA: SRR971778\u001b[0m\n",
      "Downloading SRR971778 ...\n",
      "Executing:prefetch -O /home/usingh/work/urmi/hoap/test/athalData/sraData/SRR971778 SRR971778\n",
      "\n",
      "\n",
      "2019-12-07T22:04:42 prefetch.2.9.3: 1) Downloading 'SRR971778'...\n",
      "\n",
      "2019-12-07T22:04:42 prefetch.2.9.3:  Downloading via https...\n",
      "\n",
      "2019-12-07T22:04:47 prefetch.2.9.3: 1) 'SRR971778' was downloaded successfully\n",
      "\n",
      "Downloaded file: /home/usingh/work/urmi/hoap/test/athalData/sraData/SRR971778/SRR971778.sra 434.4 MB \n",
      "\u001b[94mChecking prefetch...\u001b[0m\n",
      "\u001b[92mFound prefetch\u001b[0m\n",
      "\u001b[94mChecking fasterq-dump...\u001b[0m\n",
      "\u001b[92mFound fasterq-dump\u001b[0m\n",
      "\u001b[94mCreating SRA: SRR1058116\u001b[0m\n",
      "Downloading SRR1058116 ...\n",
      "Executing:prefetch -O /home/usingh/work/urmi/hoap/test/athalData/sraData/SRR1058116 SRR1058116\n",
      "\n",
      "\n",
      "2019-12-07T22:04:48 prefetch.2.9.3: 1) Downloading 'SRR1058116'...\n",
      "\n",
      "2019-12-07T22:04:48 prefetch.2.9.3:  Downloading via https...\n",
      "\n",
      "2019-12-07T22:07:59 prefetch.2.9.3: 1) 'SRR1058116' was downloaded successfully\n",
      "\n",
      "Downloaded file: /home/usingh/work/urmi/hoap/test/athalData/sraData/SRR1058116/SRR1058116.sra 6.8 GB \n",
      "\u001b[94mChecking prefetch...\u001b[0m\n",
      "\u001b[92mFound prefetch\u001b[0m\n",
      "\u001b[94mChecking fasterq-dump...\u001b[0m\n",
      "\u001b[92mFound fasterq-dump\u001b[0m\n",
      "\u001b[94mCreating SRA: SRR1058118\u001b[0m\n",
      "Downloading SRR1058118 ...\n",
      "Executing:prefetch -O /home/usingh/work/urmi/hoap/test/athalData/sraData/SRR1058118 SRR1058118\n",
      "\n",
      "\n",
      "2019-12-07T22:08:00 prefetch.2.9.3: 1) Downloading 'SRR1058118'...\n",
      "\n",
      "2019-12-07T22:08:00 prefetch.2.9.3:  Downloading via https...\n",
      "\n",
      "2019-12-07T22:09:46 prefetch.2.9.3: 1) 'SRR1058118' was downloaded successfully\n",
      "\n",
      "Downloaded file: /home/usingh/work/urmi/hoap/test/athalData/sraData/SRR1058118/SRR1058118.sra 5.2 GB \n",
      "Following runs downloaded:\n",
      "SRR976159\n",
      "SRR978411\n",
      "SRR978410\n",
      "SRR971778\n",
      "SRR1058116\n",
      "SRR1058118\n"
     ]
    }
   ],
   "source": [
    "#set your working directory if you don't wan to use the current working directory\n",
    "workingDir=\"/home/usingh/work/urmi/hoap/test/athalData/sraData\"\n",
    "##download all data in athalRuns\n",
    "sraObjects=[]\n",
    "\n",
    "for x in athalRunsSmol:\n",
    "    thisSraOb=sra.SRA(x,workingDir)\n",
    "    if thisSraOb.downloadSRAFile():\n",
    "        sraObjects.append(thisSraOb)\n",
    "    else:\n",
    "        print(\"Download failed:\"+x)\n",
    "\n",
    "print(\"Following runs downloaded:\")\n",
    "for ob in sraObjects:\n",
    "    print(ob.srrAccession)"
   ]
  },
  {
   "cell_type": "markdown",
   "metadata": {},
   "source": [
    "## Processing sra files\n",
    " A reason why I have first downloaded the SRA files is that **in a typical HPC setting, one might have access to special data-transfer nodes**. These nodes could be used for downloading data efficiently but does not allow expensive computations. On the other hand data could also be downloaded from compute nodes **but you will burn your computing time/allocations for only downloading the data**. Thus may be a good idea to download data separately and then start the processing.\n",
    " \n",
    " After downloading has finished, we can start processing the data.\n"
   ]
  },
  {
   "cell_type": "code",
   "execution_count": null,
   "metadata": {},
   "outputs": [],
   "source": []
  }
 ],
 "metadata": {
  "kernelspec": {
   "display_name": "Python 3",
   "language": "python",
   "name": "python3"
  },
  "language_info": {
   "codemirror_mode": {
    "name": "ipython",
    "version": 3
   },
   "file_extension": ".py",
   "mimetype": "text/x-python",
   "name": "python",
   "nbconvert_exporter": "python",
   "pygments_lexer": "ipython3",
   "version": "3.7.5"
  }
 },
 "nbformat": 4,
 "nbformat_minor": 2
}
