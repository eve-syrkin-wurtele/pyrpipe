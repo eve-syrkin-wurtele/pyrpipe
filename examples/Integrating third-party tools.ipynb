{
 "cells": [
  {
   "cell_type": "markdown",
   "metadata": {},
   "source": [
    "# Integrating third-party tools in *pyrpipe*\n",
    "Executing any shell command with pyrpipe is easy and straight-forward. The `pyrpipe_engine` module provides helper functions to easily execute and log shell commands. Examples are provided below"
   ]
  },
  {
   "cell_type": "code",
   "execution_count": 1,
   "metadata": {},
   "outputs": [
    {
     "name": "stdout",
     "output_type": "stream",
     "text": [
      "\u001b[93mLogs will be saved to 2020-01-21-13_09_35_pyrpipe.log\u001b[0m\n",
      "\u001b[94m$ ls -l\u001b[0m\n",
      "\u001b[94mSTDOUT:\n",
      "total 16\n",
      "drwxr-xr-x 6 usingh usingh 4096 Dec 30 16:07 Athaliana_transcript_assembly\n",
      "-rw-r--r-- 1 usingh usingh 3184 Jan 21 13:08 Integrating third-party tools.ipynb\n",
      "drwxr-xr-x 5 usingh usingh 4096 Jan 16 16:54 Maize_lncRNA_prediction\n",
      "drwxr-xr-x 2 usingh usingh 4096 Jan 21 13:09 pyrpipe_logs\n",
      "\u001b[0m\n",
      "\u001b[92mTime taken:0:00:00\u001b[0m\n"
     ]
    },
    {
     "data": {
      "text/plain": [
       "True"
      ]
     },
     "execution_count": 1,
     "metadata": {},
     "output_type": "execute_result"
    }
   ],
   "source": [
    "#Import necessary modules\n",
    "from pyrpipe import pyrpipe_engine as pe\n",
    "\n",
    "#run a shell commad\n",
    "pe.execute_command(['ls', '-l'],verbose=True,quiet=False,logs=False,objectid=\"NA\",command_name=\"ls\")"
   ]
  },
  {
   "cell_type": "code",
   "execution_count": null,
   "metadata": {},
   "outputs": [],
   "source": []
  }
 ],
 "metadata": {
  "kernelspec": {
   "display_name": "Python 3",
   "language": "python",
   "name": "python3"
  },
  "language_info": {
   "codemirror_mode": {
    "name": "ipython",
    "version": 3
   },
   "file_extension": ".py",
   "mimetype": "text/x-python",
   "name": "python",
   "nbconvert_exporter": "python",
   "pygments_lexer": "ipython3",
   "version": "3.7.5"
  }
 },
 "nbformat": 4,
 "nbformat_minor": 2
}
