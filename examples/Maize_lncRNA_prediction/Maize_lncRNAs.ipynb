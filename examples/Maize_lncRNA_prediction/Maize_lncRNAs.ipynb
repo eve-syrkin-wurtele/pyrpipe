{
 "cells": [
  {
   "cell_type": "code",
   "execution_count": 1,
   "metadata": {},
   "outputs": [
    {
     "name": "stdout",
     "output_type": "stream",
     "text": [
      "\u001b[93mLogs will be saved to 2020-01-16-16_48_04_pyrpipe.log\u001b[0m\n"
     ]
    }
   ],
   "source": [
    "from pyrpipe import sra,mapping,assembly,qc,tools\n",
    "#First get the srr accessions of the runs. For this one can use the python package pysradb or R package sradb\n",
    "#runs=['SRR3098746','SRR3098745','SRR3098744'] #from the study SRP068369\n",
    "runs=['SRR765545'] #small test\n",
    "#set up directories\n",
    "maize_data=\"/home/usingh/work/urmi/hoap/test/maize/maize_data\"\n",
    "workingDir=\"/home/usingh/work/urmi/hoap/test/maize\"\n",
    "\n"
   ]
  },
  {
   "cell_type": "markdown",
   "metadata": {},
   "source": [
    "## Download data, pre-process"
   ]
  },
  {
   "cell_type": "code",
   "execution_count": 2,
   "metadata": {},
   "outputs": [
    {
     "name": "stdout",
     "output_type": "stream",
     "text": [
      "\u001b[95mDownloading SRR765545 ...\u001b[0m\n",
      "\u001b[94m$ prefetch -O /home/usingh/work/urmi/hoap/test/maize/SRR765545 SRR765545\u001b[0m\n",
      "\u001b[92mTime taken:0:00:14\u001b[0m\n",
      "Downloaded file: /home/usingh/work/urmi/hoap/test/maize/SRR765545/SRR765545.sra 500.4 MB \n",
      "\u001b[94m$ fasterq-dump -e 20 -f -t /home/usingh/work/urmi/hoap/test/maize -O /home/usingh/work/urmi/hoap/test/maize/SRR765545 -o SRR765545.fastq /home/usingh/work/urmi/hoap/test/maize/SRR765545/SRR765545.sra\u001b[0m\n",
      "\u001b[92mTime taken:0:00:27\u001b[0m\n",
      "Performing QC using trim_galore\n",
      "\u001b[94m$ trim_galore --cores 10 --paired -o /home/usingh/work/urmi/hoap/test/maize/SRR765545 /home/usingh/work/urmi/hoap/test/maize/SRR765545/SRR765545_1.fastq /home/usingh/work/urmi/hoap/test/maize/SRR765545/SRR765545_2.fastq\u001b[0m\n",
      "\u001b[92mTime taken:0:01:09\u001b[0m\n"
     ]
    }
   ],
   "source": [
    "sraObjects=[]\n",
    "for x in runs:\n",
    "    thisSraOb=sra.SRA(x,workingDir)\n",
    "    if thisSraOb.download_sra():\n",
    "        sraObjects.append(thisSraOb)\n",
    "    else:\n",
    "        print(\"Download failed:\"+x)\n",
    "        \n",
    "#perform fastq dump and qc\n",
    "\n",
    "#create a Trimgalore object\n",
    "tgOpts={\"--cores\": \"10\"}\n",
    "tg=qc.Trimgalore(**tgOpts)\n",
    "\n",
    "for x in sraObjects:\n",
    "    #to fastq\n",
    "    x.run_fasterqdump(delete_sra=True,**{\"-e\":\"20\",\"-f\":\"\",\"-t\":workingDir}) #use 20 threads\n",
    "    #perform qc using trim galore\n",
    "    x.perform_qc(tg)\n",
    "    \n",
    "\n",
    "        "
   ]
  },
  {
   "cell_type": "markdown",
   "metadata": {},
   "source": [
    "## Map using STAR"
   ]
  },
  {
   "cell_type": "code",
   "execution_count": null,
   "metadata": {},
   "outputs": [
    {
     "name": "stdout",
     "output_type": "stream",
     "text": [
      "No STAR index provided. Please build index now to generate an index using build_index()....\n",
      "\u001b[94m$ STAR --runMode genomeGenerate --genomeDir /home/usingh/work/urmi/hoap/test/maize/maize_data/starindex --genomeFastaFiles /home/usingh/work/urmi/hoap/test/maize/maize_data/Zea_mays.B73_RefGen_v4.dna.toplevel.1_10.fa\u001b[0m\n"
     ]
    }
   ],
   "source": [
    "starParams={\"--outFilterType\":\"BySJout\",\n",
    "            \"--runThreadN\":\"8\",\n",
    "            \"--outSAMtype\": \"BAM SortedByCoordinate\"\n",
    "            }\n",
    "\n",
    "star=mapping.Star(star_index=\"\",**starParams) #provided index is invalid\n",
    "\n",
    "#create star index\n",
    "indexOut=maize_data+\"/starindex\"\n",
    "inFasta=maize_data+\"/Zea_mays.B73_RefGen_v4.dna.toplevel.1_10.fa\"\n",
    "star.build_index(indexOut,inFasta)\n",
    "\n"
   ]
  },
  {
   "cell_type": "markdown",
   "metadata": {},
   "source": [
    "## Transcript assembly using StringTie"
   ]
  },
  {
   "cell_type": "code",
   "execution_count": null,
   "metadata": {},
   "outputs": [],
   "source": [
    "#Create object for stringtie. This will be used for all the bam files.\n",
    "st=assembly.Stringtie(reference_gtf=\"maize_data/Zea_mays.B73_RefGen_v4.46.gtf\")\n",
    "gtfList=[]\n",
    "for x in sraObjects:\n",
    "    star_out_dir=star.perform_alignment(x,objectid=x.srr_accession)\n",
    "    bam=star_out_dir+\"/Aligned.sortedByCoord.out.bam\"\n",
    "    gtfList.append(st.perform_assembly(bam,objectid=x.srr_accession,**{\"-p\":\"25\"}))   \n",
    "\n",
    "print(gtfList)\n"
   ]
  },
  {
   "cell_type": "markdown",
   "metadata": {},
   "source": [
    "## lncRNA prediction using PLncPRO\n",
    "We will use [PLncPRO](https://github.com/urmi-21/PLncPRO) for prediction of lncRNAs. Currently, PLncPRO is not integrated into `pyrpipe` so we will use the `pyrpipe_engine` module directly to execute."
   ]
  },
  {
   "cell_type": "code",
   "execution_count": null,
   "metadata": {},
   "outputs": [],
   "source": [
    "#import pyrpipe modules\n",
    "from pyrpipe import pyrpipe_engine as pe\n",
    "#install plncpro\n",
    "pe.execute_command(\"pip install plncpro\".split(),verbose=True,quiet=False,logs=False)\n",
    "#OR\n",
    "#!pip install plncpro\n",
    "\n",
    "\n",
    "genome=\"maize_data/Zea_mays.B73_RefGen_v4.dna.toplevel.1_10.fa\"\n",
    "model=\"monocot_model/monocot.model\"\n",
    "blastdb=\"uniprot/uniprotdb\"\n",
    "for i in range(len(gtfList)):\n",
    "    thisOb=sraObjects[i]\n",
    "    #first extract transcripts using gffread\n",
    "    tx_file=thisOb.location+\"/transcripts.fa\"\n",
    "    cmd=\"gffread -w \"+tx_file+\" -g maize_data/Zea_mays.B73_RefGen_v4.dna.toplevel.1_10.fa \"+gtfList[i]\n",
    "    pe.execute_command(cmd.split(\" \"),verbose=False,quiet=False,logs=True,objectid=thisOb.srr_accession,command_name=\"gffread\")\n",
    "    \n",
    "    #Optional step use biopython to filter transcripts by len\n",
    "    #out_file=thisOb.location+\"/transcripts_filter.fa\"\n",
    "    #output_handle = open(out_file, \"w\")\n",
    "    #for record in SeqIO.parse(tx_file, \"fasta\"):\n",
    "        # keep tx between 200 and 1000\n",
    "    #    if len(record)>=500 and len(record)<=1000:\n",
    "    #        #write to temp file\n",
    "    #        SeqIO.write(record, output_handle, \"fasta\")\n",
    "\n",
    "    \n",
    "    #run plncpro\n",
    "    outdir=thisOb.location+\"/plncpro_out\"\n",
    "    outfile=\"plncpro_predictions\"\n",
    "    cmd=\"plncpro predict -i \"+tx_file+\" -o \"+outdir+\" -p \"+outfile+\" -t 25 --min_len 200 -d \"+blastdb+\" -m \"+model+\" -v -r\"\n",
    "    pe.execute_command(cmd.split(),verbose=False,quiet=False,logs=True,objectid=thisOb.srr_accession,command_name=\"plncpro predict\")\n",
    "        \n"
   ]
  },
  {
   "cell_type": "markdown",
   "metadata": {},
   "source": [
    "## Generate reports"
   ]
  },
  {
   "cell_type": "code",
   "execution_count": 1,
   "metadata": {},
   "outputs": [
    {
     "name": "stdout",
     "output_type": "stream",
     "text": [
      "/home/usingh/anaconda3/envs/pyrpipeTest2/lib/python3.5/site-packages/weasyprint/fonts.py:44: UserWarning: @font-face support needs Pango >= 1.38\n",
      "  warnings.warn('@font-face support needs Pango >= 1.38')\n",
      "/home/usingh/anaconda3/envs/pyrpipeTest2/lib/python3.5/site-packages/weasyprint/document.py:36: UserWarning: There are known rendering problems and missing features with cairo < 1.15.4. WeasyPrint may work with older versions, but please read the note about the needed cairo version on the \"Install\" page of the documentation before reporting bugs. http://weasyprint.readthedocs.io/en/latest/install.html\n",
      "  'There are known rendering problems and missing features with '\n",
      "Report written to 2020-01-22-18_14_47_pyrpipe.pdf\n",
      "/home/usingh/anaconda3/envs/pyrpipeTest2/lib/python3.5/site-packages/weasyprint/fonts.py:44: UserWarning: @font-face support needs Pango >= 1.38\n",
      "  warnings.warn('@font-face support needs Pango >= 1.38')\n",
      "/home/usingh/anaconda3/envs/pyrpipeTest2/lib/python3.5/site-packages/weasyprint/document.py:36: UserWarning: There are known rendering problems and missing features with cairo < 1.15.4. WeasyPrint may work with older versions, but please read the note about the needed cairo version on the \"Install\" page of the documentation before reporting bugs. http://weasyprint.readthedocs.io/en/latest/install.html\n",
      "  'There are known rendering problems and missing features with '\n",
      "Generating benchmarks\n",
      "\u001b[94mparsing log...\u001b[0m\n",
      "\u001b[94mdone.\u001b[0m\n",
      "      data             name\n",
      "0   6448.0             STAR\n",
      "1   6817.0             STAR\n",
      "2     75.0     fasterq-dump\n",
      "3     89.0     fasterq-dump\n",
      "4      9.0          gffread\n",
      "5      7.0          gffread\n",
      "6    910.0  plncpro predict\n",
      "7    815.0  plncpro predict\n",
      "8    491.0         prefetch\n",
      "9    406.0         prefetch\n",
      "10  1209.0        stringtie\n",
      "11  1198.0        stringtie\n",
      "12   782.0      trim_galore\n",
      "13   836.0      trim_galore\n",
      "\u001b[92mBenchmark report saved to:/home/usingh/work/urmi/hoap/pyrpipe/examples/Maize_lncRNA_prediction/tmp/benchmark_reports\u001b[0m\n",
      "/home/usingh/anaconda3/envs/pyrpipeTest2/lib/python3.5/site-packages/weasyprint/fonts.py:44: UserWarning: @font-face support needs Pango >= 1.38\n",
      "  warnings.warn('@font-face support needs Pango >= 1.38')\n",
      "/home/usingh/anaconda3/envs/pyrpipeTest2/lib/python3.5/site-packages/weasyprint/document.py:36: UserWarning: There are known rendering problems and missing features with cairo < 1.15.4. WeasyPrint may work with older versions, but please read the note about the needed cairo version on the \"Install\" page of the documentation before reporting bugs. http://weasyprint.readthedocs.io/en/latest/install.html\n",
      "  'There are known rendering problems and missing features with '\n",
      "Generating bash script\n",
      "shell commands written to 2020-01-22-18_14_47_pyrpipe.sh\n"
     ]
    }
   ],
   "source": [
    "!pyrpipe_diagnostic.py report pyrpipe_logs/2020-01-22-18_14_47_pyrpipe.log\n",
    "!pyrpipe_diagnostic.py benchmark pyrpipe_logs/2020-01-22-18_14_47_pyrpipe.log\n",
    "!pyrpipe_diagnostic.py shell pyrpipe_logs/2020-01-22-18_14_47_pyrpipe.log\n"
   ]
  },
  {
   "cell_type": "code",
   "execution_count": null,
   "metadata": {},
   "outputs": [],
   "source": []
  }
 ],
 "metadata": {
  "kernelspec": {
   "display_name": "Python 3",
   "language": "python",
   "name": "python3"
  },
  "language_info": {
   "codemirror_mode": {
    "name": "ipython",
    "version": 3
   },
   "file_extension": ".py",
   "mimetype": "text/x-python",
   "name": "python",
   "nbconvert_exporter": "python",
   "pygments_lexer": "ipython3",
   "version": "3.7.5"
  }
 },
 "nbformat": 4,
 "nbformat_minor": 2
}
