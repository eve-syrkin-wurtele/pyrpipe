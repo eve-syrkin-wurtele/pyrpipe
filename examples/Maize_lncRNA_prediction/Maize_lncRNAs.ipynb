{
 "cells": [
  {
   "cell_type": "code",
   "execution_count": 1,
   "metadata": {},
   "outputs": [
    {
     "name": "stdout",
     "output_type": "stream",
     "text": [
      "\u001b[93mLogs will be saved to 2020-01-16-16_48_04_pyrpipe.log\u001b[0m\n"
     ]
    }
   ],
   "source": [
    "from pyrpipe import sra,mapping,assembly,qc,tools\n",
    "#First get the srr accessions of the runs. For this one can use the python package pysradb or R package sradb\n",
    "#runs=['SRR3098746','SRR3098745','SRR3098744'] #from the study SRP068369\n",
    "runs=['SRR765545'] #small test\n",
    "#set up directories\n",
    "maize_data=\"/home/usingh/work/urmi/hoap/test/maize/maize_data\"\n",
    "workingDir=\"/home/usingh/work/urmi/hoap/test/maize\"\n",
    "\n"
   ]
  },
  {
   "cell_type": "markdown",
   "metadata": {},
   "source": [
    "## Download data, pre-process"
   ]
  },
  {
   "cell_type": "code",
   "execution_count": 2,
   "metadata": {},
   "outputs": [
    {
     "name": "stdout",
     "output_type": "stream",
     "text": [
      "\u001b[95mDownloading SRR765545 ...\u001b[0m\n",
      "\u001b[94m$ prefetch -O /home/usingh/work/urmi/hoap/test/maize/SRR765545 SRR765545\u001b[0m\n",
      "\u001b[92mTime taken:0:00:14\u001b[0m\n",
      "Downloaded file: /home/usingh/work/urmi/hoap/test/maize/SRR765545/SRR765545.sra 500.4 MB \n",
      "\u001b[94m$ fasterq-dump -e 20 -f -t /home/usingh/work/urmi/hoap/test/maize -O /home/usingh/work/urmi/hoap/test/maize/SRR765545 -o SRR765545.fastq /home/usingh/work/urmi/hoap/test/maize/SRR765545/SRR765545.sra\u001b[0m\n",
      "\u001b[92mTime taken:0:00:27\u001b[0m\n",
      "Performing QC using trim_galore\n",
      "\u001b[94m$ trim_galore --cores 10 --paired -o /home/usingh/work/urmi/hoap/test/maize/SRR765545 /home/usingh/work/urmi/hoap/test/maize/SRR765545/SRR765545_1.fastq /home/usingh/work/urmi/hoap/test/maize/SRR765545/SRR765545_2.fastq\u001b[0m\n",
      "\u001b[92mTime taken:0:01:09\u001b[0m\n"
     ]
    }
   ],
   "source": [
    "sraObjects=[]\n",
    "for x in runs:\n",
    "    thisSraOb=sra.SRA(x,workingDir)\n",
    "    if thisSraOb.download_sra():\n",
    "        sraObjects.append(thisSraOb)\n",
    "    else:\n",
    "        print(\"Download failed:\"+x)\n",
    "        \n",
    "#perform fastq dump and qc\n",
    "\n",
    "#create a Trimgalore object\n",
    "tgOpts={\"--cores\": \"10\"}\n",
    "tg=qc.Trimgalore(**tgOpts)\n",
    "\n",
    "for x in sraObjects:\n",
    "    #to fastq\n",
    "    x.run_fasterqdump(delete_sra=True,**{\"-e\":\"20\",\"-f\":\"\",\"-t\":workingDir}) #use 20 threads\n",
    "    #perform qc using trim galore\n",
    "    x.perform_qc(tg)\n",
    "    \n",
    "\n",
    "        "
   ]
  },
  {
   "cell_type": "markdown",
   "metadata": {},
   "source": [
    "## Map using STAR"
   ]
  },
  {
   "cell_type": "code",
   "execution_count": null,
   "metadata": {},
   "outputs": [
    {
     "name": "stdout",
     "output_type": "stream",
     "text": [
      "No STAR index provided. Please build index now to generate an index using build_index()....\n",
      "\u001b[94m$ STAR --runMode genomeGenerate --genomeDir /home/usingh/work/urmi/hoap/test/maize/maize_data/starindex --genomeFastaFiles /home/usingh/work/urmi/hoap/test/maize/maize_data/Zea_mays.B73_RefGen_v4.dna.toplevel.1_10.fa\u001b[0m\n"
     ]
    }
   ],
   "source": [
    "starParams={\"--outFilterType\":\"BySJout\",\n",
    "            \"--runThreadN\":\"8\",\n",
    "            \"--outSAMtype\": \"BAM SortedByCoordinate\"\n",
    "            }\n",
    "\n",
    "star=mapping.Star(star_index=\"\",**starParams) #provided index is invalid\n",
    "\n",
    "#create star index\n",
    "indexOut=maize_data+\"/starindex\"\n",
    "inFasta=maize_data+\"/Zea_mays.B73_RefGen_v4.dna.toplevel.1_10.fa\"\n",
    "star.build_index(indexOut,inFasta)\n",
    "\n",
    "#after building index run star\n",
    "#star_out=[]\n",
    "#for x in sraObjects:\n",
    "#    star_out.append(star.perform_alignment(x))"
   ]
  },
  {
   "cell_type": "code",
   "execution_count": null,
   "metadata": {},
   "outputs": [],
   "source": []
  }
 ],
 "metadata": {
  "kernelspec": {
   "display_name": "Python 3",
   "language": "python",
   "name": "python3"
  },
  "language_info": {
   "codemirror_mode": {
    "name": "ipython",
    "version": 3
   },
   "file_extension": ".py",
   "mimetype": "text/x-python",
   "name": "python",
   "nbconvert_exporter": "python",
   "pygments_lexer": "ipython3",
   "version": "3.7.5"
  }
 },
 "nbformat": 4,
 "nbformat_minor": 2
}
