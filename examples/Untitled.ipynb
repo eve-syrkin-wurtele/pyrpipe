{
 "cells": [
  {
   "cell_type": "code",
   "execution_count": 10,
   "metadata": {},
   "outputs": [],
   "source": [
    "\"\"\"\n",
    "Created on Mon Nov 27 14:05:26 2019\n",
    "\n",
    "@author: usingh\n",
    "This notebook covers few example use cases of pyrpipe\n",
    "\"\"\"\n",
    "\n",
    "#import pyrpipe class\n",
    "from pyrpipe import sra"
   ]
  },
  {
   "cell_type": "code",
   "execution_count": 11,
   "metadata": {},
   "outputs": [],
   "source": [
    "#define environment to work with\n",
    "testDir=\"/home/usingh/work/urmi/hoap/test\" #all the downloads and results will be under this directory\n",
    "#Specify hisat index to be used later\n",
    "hisatInd=\"/home/usingh/work/urmi/hoap/test/hisatYeast/S288C_reference_genome_R64-2-1_20150113/yeastIndex\"\n",
    "#small list of yeast RNA-Seq runs\n",
    "yeastList=['SRR1583780','SRR5507495','SRR5507442','SRR5507362','SRR5507343','SRR5507356','SRR5507413']"
   ]
  },
  {
   "cell_type": "markdown",
   "metadata": {},
   "source": [
    "## Creating SRA objects\n",
    "\n",
    "We will use the SRA class to create objects which will refer to an \"SRR\" sample (also knonw as the Run object see: https://www.ncbi.nlm.nih.gov/books/NBK56913/#search.what_do_the_different_sra_accessi). We need to create an SRA object for each run we want to analyze. We will specify a directory (testDir) which will be used to store all the data. By default this directory is the current working directory. To make things consistent, for each run\n",
    "all data will be downloaded under the sub-directory &lt;SRRaccession> (this is enforced behaviour)."
   ]
  },
  {
   "cell_type": "code",
   "execution_count": 16,
   "metadata": {},
   "outputs": [
    {
     "name": "stdout",
     "output_type": "stream",
     "text": [
      "\u001b[94mCreating SRA: SRR1583780\u001b[0m\n",
      "Location is: /home/usingh/work/urmi/hoap/test/SRR1583780\n"
     ]
    },
    {
     "data": {
      "text/plain": [
       "False"
      ]
     },
     "execution_count": 16,
     "metadata": {},
     "output_type": "execute_result"
    }
   ],
   "source": [
    "#let's consider the run SRR1583780\n",
    "myRun='SRR1583780'\n",
    "'''\n",
    "create SRA object. Note that the test directory parameter specifies where to put all the data. \n",
    "By default the directory is the current working directory. To make things consistent, for each run\n",
    "all data will be downloaded under the sub-directory <SrrAccession>.\n",
    "'''\n",
    "sraOb=sra.SRA(myRun,testDir)\n",
    "#get the accession\n",
    "sraOb.getSrrAccession()\n",
    "#check the location\n",
    "print(\"Location is: \"+sraOb.location)\n",
    "#check if sra file exists\n",
    "sraOb.sraFileExistsLocally()\n"
   ]
  },
  {
   "cell_type": "markdown",
   "metadata": {},
   "source": [
    "## Downloading SRA file\n",
    "In the above chunk we have created an SRA object. ```sraFileExistsLocally()``` checks whether the .sra files exist locally (&lt;SRRaccession>.sra). To download .sra files using ```prefetch``` we can use ```downloadSRAFile()```"
   ]
  },
  {
   "cell_type": "code",
   "execution_count": 13,
   "metadata": {},
   "outputs": [
    {
     "name": "stdout",
     "output_type": "stream",
     "text": [
      "Downloading SRR1583780 ...\n",
      "Executing:prefetch -O /home/usingh/work/urmi/hoap/test/SRR1583780 SRR1583780\n",
      "\n",
      "\n",
      "2019-11-27T20:29:34 prefetch.2.9.3: 1) 'SRR1583780' is found locally\n",
      "\n",
      "Downloaded file: /home/usingh/work/urmi/hoap/test/SRR1583780/SRR1583780.sra 215.3 KB \n",
      "sra file downloaded to/home/usingh/work/urmi/hoap/test/SRR1583780/SRR1583780.sra\n"
     ]
    }
   ],
   "source": [
    "sraOb.downloadSRAFile()\n",
    "\n",
    "if sraOb.sraFileExistsLocally():\n",
    "    print(\"sra file downloaded to\"+sraOb.localSRAFilePath)\n",
    "else:\n",
    "    raise Exception(\"Error Downloading\")"
   ]
  },
  {
   "cell_type": "markdown",
   "metadata": {},
   "source": [
    "## Converting sra to fastq\n",
    "Once .sra file is downloaded we can use ```runFasterQDump()``` to conver .sra to .fastq files. The fastq files will be created in the same directory (```sraOb.location```)\n"
   ]
  },
  {
   "cell_type": "code",
   "execution_count": 19,
   "metadata": {},
   "outputs": [
    {
     "name": "stdout",
     "output_type": "stream",
     "text": [
      "Error executing fasterq-dump: .sra file not found. Please run downloadSRAFile().\n"
     ]
    },
    {
     "data": {
      "text/plain": [
       "False"
      ]
     },
     "execution_count": 19,
     "metadata": {},
     "output_type": "execute_result"
    }
   ],
   "source": [
    "'''\n",
    "run fasterq-dump.\n",
    "deleteSRA arguments tells to remove the .sra file after getting the .fastq files\n",
    "using **kwags we can pass additional arguments to our program. These are separated by key-value pairs just like\n",
    "regular linux argument. The flags (options without arguments) should be passed as having empty value i.e. \"\" \n",
    "(e.g. -f below)\n",
    "'''\n",
    "sraOb.runFasterQDump(deleteSRA=True,**{\"-f\":\"\",\"-t\":testDir})"
   ]
  },
  {
   "cell_type": "code",
   "execution_count": null,
   "metadata": {},
   "outputs": [],
   "source": []
  }
 ],
 "metadata": {
  "kernelspec": {
   "display_name": "Python 3",
   "language": "python",
   "name": "python3"
  },
  "language_info": {
   "codemirror_mode": {
    "name": "ipython",
    "version": 3
   },
   "file_extension": ".py",
   "mimetype": "text/x-python",
   "name": "python",
   "nbconvert_exporter": "python",
   "pygments_lexer": "ipython3",
   "version": "3.7.5"
  }
 },
 "nbformat": 4,
 "nbformat_minor": 2
}
