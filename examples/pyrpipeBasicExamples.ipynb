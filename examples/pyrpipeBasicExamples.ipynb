{
 "cells": [
  {
   "cell_type": "code",
   "execution_count": 60,
   "metadata": {},
   "outputs": [],
   "source": [
    "\"\"\"\n",
    "Created on Mon Nov 27 14:05:26 2019\n",
    "\n",
    "@author: usingh\n",
    "This notebook covers few example use cases of pyrpipe\n",
    "\"\"\"\n",
    "\n",
    "#import pyrpipe class\n",
    "from pyrpipe import sra"
   ]
  },
  {
   "cell_type": "code",
   "execution_count": 61,
   "metadata": {},
   "outputs": [],
   "source": [
    "#define environment to work with\n",
    "testDir=\"/home/usingh/work/urmi/hoap/test\" #all the downloads and results will be under this directory\n",
    "#Specify hisat index to be used later\n",
    "hisatInd=\"/home/usingh/work/urmi/hoap/test/hisatYeast/S288C_reference_genome_R64-2-1_20150113/yeastIndex\"\n",
    "#small list of yeast RNA-Seq runs\n",
    "yeastList=['SRR1583780','SRR5507495','SRR5507442','SRR5507362','SRR5507343','SRR5507356','SRR5507413']"
   ]
  },
  {
   "cell_type": "markdown",
   "metadata": {},
   "source": [
    "## Creating SRA objects\n",
    "\n",
    "We will use the SRA class to create objects which will refer to an \"SRR\" sample (also knonw as the Run object see: https://www.ncbi.nlm.nih.gov/books/NBK56913/#search.what_do_the_different_sra_accessi). We need to create an SRA object for each run we want to analyze. We will specify a directory (testDir) which will be used to store all the data. By default this directory is the current working directory. To make things consistent, for each run\n",
    "all data will be downloaded under the sub-directory &lt;SRRaccession> (this is enforced behaviour)."
   ]
  },
  {
   "cell_type": "code",
   "execution_count": 62,
   "metadata": {},
   "outputs": [
    {
     "name": "stdout",
     "output_type": "stream",
     "text": [
      "\u001b[94mCreating SRA: SRR1583780\u001b[0m\n",
      "Location is: /home/usingh/work/urmi/hoap/test/SRR1583780\n"
     ]
    },
    {
     "data": {
      "text/plain": [
       "False"
      ]
     },
     "execution_count": 62,
     "metadata": {},
     "output_type": "execute_result"
    }
   ],
   "source": [
    "#let's consider the run SRR1583780\n",
    "myRun='SRR1583780'\n",
    "'''\n",
    "create SRA object. Note that the test directory parameter specifies where to put all the data. \n",
    "By default the directory is the current working directory. To make things consistent, for each run\n",
    "all data will be downloaded under the sub-directory <SrrAccession>.\n",
    "'''\n",
    "sraOb=sra.SRA(myRun,testDir)\n",
    "#get the accession\n",
    "sraOb.getSrrAccession()\n",
    "#check the location\n",
    "print(\"Location is: \"+sraOb.location)\n",
    "#check if sra file exists\n",
    "sraOb.sraFileExistsLocally()\n"
   ]
  },
  {
   "cell_type": "markdown",
   "metadata": {},
   "source": [
    "## Downloading SRA file\n",
    "In the above chunk we have created an SRA object. ```sraFileExistsLocally()``` checks whether the .sra files exist locally (&lt;SRRaccession>.sra). To download .sra files using ```prefetch``` we can use ```downloadSRAFile()```"
   ]
  },
  {
   "cell_type": "code",
   "execution_count": 63,
   "metadata": {},
   "outputs": [
    {
     "name": "stdout",
     "output_type": "stream",
     "text": [
      "Downloading SRR1583780 ...\n",
      "Executing:prefetch -O /home/usingh/work/urmi/hoap/test/SRR1583780 SRR1583780\n",
      "\n",
      "\n",
      "2019-11-27T21:59:29 prefetch.2.9.3: 1) Downloading 'SRR1583780'...\n",
      "\n",
      "2019-11-27T21:59:29 prefetch.2.9.3:  Downloading via https...\n",
      "\n",
      "2019-11-27T21:59:29 prefetch.2.9.3: 1) 'SRR1583780' was downloaded successfully\n",
      "\n",
      "Downloaded file: /home/usingh/work/urmi/hoap/test/SRR1583780/SRR1583780.sra 215.3 KB \n",
      "sra file downloaded to/home/usingh/work/urmi/hoap/test/SRR1583780/SRR1583780.sra\n"
     ]
    }
   ],
   "source": [
    "#download .sra file for sraOb\n",
    "sraOb.downloadSRAFile()\n",
    "\n",
    "if sraOb.sraFileExistsLocally():\n",
    "    print(\"sra file downloaded to\"+sraOb.localSRAFilePath)\n",
    "else:\n",
    "    raise Exception(\"Error Downloading\")"
   ]
  },
  {
   "cell_type": "markdown",
   "metadata": {},
   "source": [
    "## Converting sra to fastq\n",
    "Once .sra file is downloaded we can use ```runFasterQDump()``` to conver .sra to .fastq files. The fastq files will be created in the same directory (```sraOb.location```)\n"
   ]
  },
  {
   "cell_type": "code",
   "execution_count": 64,
   "metadata": {},
   "outputs": [
    {
     "name": "stdout",
     "output_type": "stream",
     "text": [
      "Executing:fasterq-dump -f -t /home/usingh/work/urmi/hoap/test -e 10 -O /home/usingh/work/urmi/hoap/test/SRR1583780 -o SRR1583780.fastq /home/usingh/work/urmi/hoap/test/SRR1583780/SRR1583780.sra\n",
      "spots read      : 4,881\n",
      "\n",
      "reads read      : 9,762\n",
      "\n",
      "reads written   : 9,762\n",
      "\n",
      "Deleting file: /home/usingh/work/urmi/hoap/test/SRR1583780/SRR1583780.sra rm /home/usingh/work/urmi/hoap/test/SRR1583780/SRR1583780.sra\n",
      "fq1: /home/usingh/work/urmi/hoap/test/SRR1583780/SRR1583780_1.fastq\n",
      "fq2: /home/usingh/work/urmi/hoap/test/SRR1583780/SRR1583780_2.fastq\n"
     ]
    }
   ],
   "source": [
    "'''\n",
    "run fasterq-dump.\n",
    "deleteSRA arguments tells to remove the .sra file after getting the .fastq files\n",
    "using **kwags we can pass additional arguments to our program. These are separated by key-value pairs just like\n",
    "regular linux argument. The flags (options without arguments) should be passed as having empty value i.e. \"\" \n",
    "(e.g. -f below). Also note that int type values are passed as string e.g. \"-e\":\"10\" (specifies num cores to use)\n",
    "'''\n",
    "\n",
    "sraOb.runFasterQDump(deleteSRA=True,**{\"-f\":\"\",\"-t\":testDir,\"-e\":\"10\"})\n",
    "#see fastq files\n",
    "if sraOb.fastqFilesExistsLocally():\n",
    "    print(\"fq1: \"+sraOb.localfastq1Path)\n",
    "    print(\"fq2: \"+sraOb.localfastq2Path)\n",
    "else: raise Exception(\"Failed fasterq-dump\")\n"
   ]
  },
  {
   "cell_type": "markdown",
   "metadata": {},
   "source": [
    "## Quality control and adapter filtering\n",
    "To remove adapters and filter reads from fastq files we can use ```performQC()``` function. The ```performQC()``` function takes an object of type ```RNASeqQC``` which are basically programs to perform quality filtering on RNA-Seq. So far ```trim_galore``` and ```BBMap``` are implemented in pyrpipe. To run ```performQC()```, we have to first create an ```RNASeqQC``` object.\n",
    "\n",
    "**Important to note that after running ```RNASeqQC``` the ```localfastqPath``` variables are updated to point to the qc-corrected files.**"
   ]
  },
  {
   "cell_type": "code",
   "execution_count": 65,
   "metadata": {},
   "outputs": [
    {
     "name": "stdout",
     "output_type": "stream",
     "text": [
      "\u001b[94mChecking trim_galore...\u001b[0m\n",
      "\u001b[92mFound trim_galore\u001b[0m\n",
      "\u001b[94mChecking cutadapt...\u001b[0m\n",
      "\u001b[92mFound cutadapt\u001b[0m\n",
      "['-j', '8', '--length', '1']\n",
      "Performing QC using trim_galore\n",
      "Running trim_galore paired\n",
      "Executing: trim_galore -o /home/usingh/work/urmi/hoap/test/SRR1583780 -j 8 --length 1 --paired /home/usingh/work/urmi/hoap/test/SRR1583780/SRR1583780_1.fastq /home/usingh/work/urmi/hoap/test/SRR1583780/SRR1583780_2.fastq\n",
      "Executing:mv /home/usingh/work/urmi/hoap/test/SRR1583780/SRR1583780_1_val_1.fq /home/usingh/work/urmi/hoap/test/SRR1583780/SRR1583780_1_trimGalore.fastq\n",
      "(True, '/home/usingh/work/urmi/hoap/test/SRR1583780/SRR1583780_1_trimGalore.fastq', '/home/usingh/work/urmi/hoap/test/SRR1583780/SRR1583780_2_trimGalore.fastq')\n",
      "fq1: /home/usingh/work/urmi/hoap/test/SRR1583780/SRR1583780_1_trimGalore.fastq\n",
      "fq2: /home/usingh/work/urmi/hoap/test/SRR1583780/SRR1583780_2_trimGalore.fastq\n"
     ]
    }
   ],
   "source": [
    "'''\n",
    "First we need to import qc which contains all RNASeqQC objects.\n",
    "create TrimGalore object to use trim_galore. Note TrimGalore inherits RNASeqQC class.\n",
    "Note the **kwargs passed to TrimGalore\n",
    "'''\n",
    "from pyrpipe import qc\n",
    "trimGaloreObj=qc.Trimgalore(**{\"-j\":\"8\",\"--length\":\"1\"})\n",
    "#now perform qc\n",
    "sraOb.performQC(trimGaloreObj,deleteRawFastq=False)\n",
    "\n",
    "#check path again\n",
    "if sraOb.fastqFilesExistsLocally():\n",
    "    print(\"fq1: \"+sraOb.localfastq1Path)\n",
    "    print(\"fq2: \"+sraOb.localfastq2Path)\n",
    "else: raise Exception(\"Failed fasterq-dump\")"
   ]
  },
  {
   "cell_type": "markdown",
   "metadata": {},
   "source": [
    "## Mapping RNA-Seq reads to genome\n",
    "One can create instances of the ```Mapping``` from pyrpipe to perform read mapping. An object of the ```Mapping``` class is equivalent to an alignment program like ```Hisat2``` or ```STAR```. A mapping object can then take SRA object and produce the alignment. Each mapping object should be initialized with specific parameters (different parameters, genome index and so on.)"
   ]
  },
  {
   "cell_type": "code",
   "execution_count": 66,
   "metadata": {},
   "outputs": [
    {
     "name": "stdout",
     "output_type": "stream",
     "text": [
      "\u001b[94mChecking hisat2...\u001b[0m\n",
      "\u001b[92mFound hisat2\u001b[0m\n",
      "Found HISAT2 index files.\n",
      "Executing:hisat2 -p 10 --dta-cufflinks -x /home/usingh/work/urmi/hoap/test/hisatYeast/S288C_reference_genome_R64-2-1_20150113/yeastIndex -1 /home/usingh/work/urmi/hoap/test/SRR1583780/SRR1583780_1_trimGalore.fastq -2 /home/usingh/work/urmi/hoap/test/SRR1583780/SRR1583780_2_trimGalore.fastq -S /home/usingh/work/urmi/hoap/test/SRR1583780/SRR1583780_hisat2.sam\n",
      "(True, '/home/usingh/work/urmi/hoap/test/SRR1583780/SRR1583780_hisat2.sam')\n",
      "Sam file:/home/usingh/work/urmi/hoap/test/SRR1583780/SRR1583780_hisat2.sam\n"
     ]
    }
   ],
   "source": [
    "from pyrpipe import mapping\n",
    "#specify hisat index\n",
    "hisatInd=\"/home/usingh/work/urmi/hoap/test/hisatYeast/S288C_reference_genome_R64-2-1_20150113/yeastIndex\"\n",
    "#create hisat object\n",
    "hisat2Obj=mapping.Hisat2(hisatInd)\n",
    "#run hisat and specify some parametrs, get return value in hsStatus\n",
    "hsStatus=hisat2Obj.runHisat2(sraOb,**{\"-p\":\"10\",\"--dta-cufflinks\":\"\"})\n",
    "\n",
    "print(hsStatus)\n",
    "\n",
    "if not hsStatus[0]:\n",
    "    raise Exception(\"Hisat2 failed\")\n",
    "else:\n",
    "    print(\"Sam file:\"+hsStatus[1])"
   ]
  },
  {
   "cell_type": "markdown",
   "metadata": {},
   "source": [
    "# Converting sam to bam\n",
    "Sam files can be converted to bam or sorted bam using samtools."
   ]
  },
  {
   "cell_type": "code",
   "execution_count": 67,
   "metadata": {},
   "outputs": [
    {
     "name": "stdout",
     "output_type": "stream",
     "text": [
      "\u001b[94mChecking samtools...\u001b[0m\n",
      "\u001b[92mFound samtools\u001b[0m\n",
      "Executing: samtools view -@ 10 -b -o /home/usingh/work/urmi/hoap/test/SRR1583780/SRR1583780_hisat2.bam /home/usingh/work/urmi/hoap/test/SRR1583780/SRR1583780_hisat2.sam\n",
      "sam2bam finished\n",
      "Deleting sam file...\n",
      "Executing: samtools sort -o /home/usingh/work/urmi/hoap/test/SRR1583780/SRR1583780_hisat2_sorted.bam -@ 10 /home/usingh/work/urmi/hoap/test/SRR1583780/SRR1583780_hisat2.bam\n",
      "SamSort finished\n",
      "Deleting unsorted bam file...\n",
      "/home/usingh/work/urmi/hoap/test/SRR1583780/SRR1583780_hisat2_sorted.bam\n"
     ]
    }
   ],
   "source": [
    "#samtools object\n",
    "samtOb=mapping.Samtools()\n",
    "#convert sam to sored bam and delete original sam and intermediate bam file\n",
    "sortedBam=samtOb.samToSortedBam(hsStatus[1],10,deleteSam=True,deleteOriginalBam=True)\n",
    "\n",
    "print(sortedBam)"
   ]
  },
  {
   "cell_type": "markdown",
   "metadata": {},
   "source": [
    "# Assemble transcripts\n",
    "```Assembly``` objects can be used to assemble transcripts.\n"
   ]
  },
  {
   "cell_type": "code",
   "execution_count": 68,
   "metadata": {},
   "outputs": [
    {
     "name": "stdout",
     "output_type": "stream",
     "text": [
      "\u001b[94mChecking stringtie...\u001b[0m\n",
      "\u001b[92mFound stringtie\u001b[0m\n",
      "Executing: stringtie /home/usingh/work/urmi/hoap/test/SRR1583780/SRR1583780_hisat2_sorted.bam -p 10 -o /home/usingh/work/urmi/hoap/test/SRR1583780/SRR1583780_hisat2_sorted.bam_stie.gtf\n",
      "Deleting file: /home/usingh/work/urmi/hoap/test/SRR1583780/SRR1583780_hisat2_sorted.bam rm /home/usingh/work/urmi/hoap/test/SRR1583780/SRR1583780_hisat2_sorted.bam\n",
      "(False, '')\n"
     ]
    }
   ],
   "source": [
    "from pyrpipe import assembly\n",
    "#creat a stringtie object\n",
    "stieOb=assembly.Stringtie()\n",
    "#run stringtie\n",
    "gtf=stieOb.runStringtie(sortedBam,deleteInputBam=True,proc=10)\n",
    "\n",
    "print(gtf)"
   ]
  },
  {
   "cell_type": "markdown",
   "metadata": {},
   "source": [
    "# Simple RNA-Seq mapping pipeline\n",
    "We can use pyrpipe's calsses and function to process multiple RNA-Seq runs."
   ]
  },
  {
   "cell_type": "code",
   "execution_count": null,
   "metadata": {},
   "outputs": [],
   "source": []
  }
 ],
 "metadata": {
  "kernelspec": {
   "display_name": "Python 3",
   "language": "python",
   "name": "python3"
  },
  "language_info": {
   "codemirror_mode": {
    "name": "ipython",
    "version": 3
   },
   "file_extension": ".py",
   "mimetype": "text/x-python",
   "name": "python",
   "nbconvert_exporter": "python",
   "pygments_lexer": "ipython3",
   "version": "3.7.5"
  }
 },
 "nbformat": 4,
 "nbformat_minor": 2
}
