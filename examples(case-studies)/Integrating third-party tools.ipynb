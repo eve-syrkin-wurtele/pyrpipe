{
 "cells": [
  {
   "cell_type": "markdown",
   "metadata": {},
   "source": [
    "# Integrating third-party tools in *pyrpipe*\n",
    "Executing any shell command with pyrpipe is easy and straight-forward. The `pyrpipe_engine` module provides helper functions to easily execute and log shell commands. Examples are provided below"
   ]
  },
  {
   "cell_type": "code",
   "execution_count": 1,
   "metadata": {},
   "outputs": [
    {
     "name": "stdout",
     "output_type": "stream",
     "text": [
      "\u001b[93mLogs will be saved to 2020-01-21-13_09_35_pyrpipe.log\u001b[0m\n",
      "\u001b[94m$ ls -l\u001b[0m\n",
      "\u001b[94mSTDOUT:\n",
      "total 16\n",
      "drwxr-xr-x 6 usingh usingh 4096 Dec 30 16:07 Athaliana_transcript_assembly\n",
      "-rw-r--r-- 1 usingh usingh 3184 Jan 21 13:08 Integrating third-party tools.ipynb\n",
      "drwxr-xr-x 5 usingh usingh 4096 Jan 16 16:54 Maize_lncRNA_prediction\n",
      "drwxr-xr-x 2 usingh usingh 4096 Jan 21 13:09 pyrpipe_logs\n",
      "\u001b[0m\n",
      "\u001b[92mTime taken:0:00:00\u001b[0m\n"
     ]
    },
    {
     "data": {
      "text/plain": [
       "True"
      ]
     },
     "execution_count": 1,
     "metadata": {},
     "output_type": "execute_result"
    }
   ],
   "source": [
    "#Import necessary modules\n",
    "from pyrpipe import pyrpipe_engine as pe\n",
    "\n",
    "#run a shell commad\n",
    "pe.execute_command(['ls', '-l'],verbose=True,quiet=False,logs=False,objectid=\"NA\",command_name=\"\")"
   ]
  },
  {
   "cell_type": "markdown",
   "metadata": {},
   "source": [
    "Example above executes a simple `ls -l` command. The command is not logged (`logs=False`) and the stdout is printed to screen as `verbose=True`. The definition of [`execute_command()`](https://pyrpipe.readthedocs.io/en/latest/pyrpipe.html#pyrpipe.pyrpipe_engine.execute_command) is as follows:\n",
    "\n",
    "`\n",
    "execute_command(cmd,verbose=False,quiet=False,logs=True,objectid=\"NA\",command_name=\"\")\n",
    "`\n",
    "The first argument `cmd` contains the shell command to be executed. This is in a list format. To run a more complex command with multiple arguments user has different options."
   ]
  },
  {
   "cell_type": "markdown",
   "metadata": {},
   "source": [
    "## Commands in a `string`\n",
    "A command in a `string` for mat can be easily converted to a list."
   ]
  },
  {
   "cell_type": "code",
   "execution_count": 10,
   "metadata": {},
   "outputs": [
    {
     "name": "stdout",
     "output_type": "stream",
     "text": [
      "\u001b[94m$ blastx -query sample_data/test.fa -db sample_data/pldb/mydb -qcov_hsp_perc 30 -num_threads 2 -out sample_data/blast_out\u001b[0m\n",
      "\u001b[92mTime taken:0:00:03\u001b[0m\n",
      "\u001b[94m$ head -20 sample_data/blast_out\u001b[0m\n",
      "\u001b[94mSTDOUT:\n",
      "BLASTX 2.7.1+\n",
      "\n",
      "\n",
      "Reference: Stephen F. Altschul, Thomas L. Madden, Alejandro A.\n",
      "Schaffer, Jinghui Zhang, Zheng Zhang, Webb Miller, and David J.\n",
      "Lipman (1997), \"Gapped BLAST and PSI-BLAST: a new generation of\n",
      "protein database search programs\", Nucleic Acids Res. 25:3389-3402.\n",
      "\n",
      "\n",
      "\n",
      "Database: mydb\n",
      "           250 sequences; 128,483 total letters\n",
      "\n",
      "\n",
      "\n",
      "Query= CNT0043697\n",
      "\n",
      "Length=699\n",
      "\n",
      "\n",
      "\u001b[0m\n",
      "\u001b[92mTime taken:0:00:00\u001b[0m\n"
     ]
    },
    {
     "data": {
      "text/plain": [
       "True"
      ]
     },
     "execution_count": 10,
     "metadata": {},
     "output_type": "execute_result"
    }
   ],
   "source": [
    "cmd=\"blastx -query sample_data/test.fa -db sample_data/pldb/mydb -qcov_hsp_perc 30 -num_threads 2 -out sample_data/blast_out\"\n",
    "cmdList=cmd.split()\n",
    "pe.execute_command(cmdList,verbose=True,quiet=False,logs=False,objectid=\"\",command_name=\"\")\n",
    "\n",
    "#head the output\n",
    "pe.execute_command(['head','-20','sample_data/blast_out'],verbose=True,quiet=False,logs=False,objectid=\"\",command_name=\"\")"
   ]
  },
  {
   "cell_type": "markdown",
   "metadata": {},
   "source": [
    "## Commands in a `dict`\n",
    "The `pyrpipe_utils` module contains helper functions [`parse_unix_args()`](https://pyrpipe.readthedocs.io/en/latest/pyrpipe.html#pyrpipe.pyrpipe_utils.parse_unix_args) and [`parse_java_args()`](https://pyrpipe.readthedocs.io/en/latest/pyrpipe.html#pyrpipe.pyrpipe_utils.parse_java_args) to convert commands in a `dict` to a list. This option can be useful to read commands or rules stored in .json format and execute them with pyrpipe."
   ]
  },
  {
   "cell_type": "code",
   "execution_count": 14,
   "metadata": {},
   "outputs": [
    {
     "name": "stdout",
     "output_type": "stream",
     "text": [
      "\u001b[94m$ blastx -query sample_data/test.fa -db sample_data/pldb/mydb -qcov_hsp_perc 30 -num_threads 2 -out sample_data/blast_out2\u001b[0m\n",
      "\u001b[92mTime taken:0:00:03\u001b[0m\n",
      "\u001b[94m$ head -20 sample_data/blast_out2\u001b[0m\n",
      "\u001b[94mSTDOUT:\n",
      "BLASTX 2.7.1+\n",
      "\n",
      "\n",
      "Reference: Stephen F. Altschul, Thomas L. Madden, Alejandro A.\n",
      "Schaffer, Jinghui Zhang, Zheng Zhang, Webb Miller, and David J.\n",
      "Lipman (1997), \"Gapped BLAST and PSI-BLAST: a new generation of\n",
      "protein database search programs\", Nucleic Acids Res. 25:3389-3402.\n",
      "\n",
      "\n",
      "\n",
      "Database: mydb\n",
      "           250 sequences; 128,483 total letters\n",
      "\n",
      "\n",
      "\n",
      "Query= CNT0043697\n",
      "\n",
      "Length=699\n",
      "\n",
      "\n",
      "\u001b[0m\n",
      "\u001b[92mTime taken:0:00:00\u001b[0m\n"
     ]
    },
    {
     "data": {
      "text/plain": [
       "True"
      ]
     },
     "execution_count": 14,
     "metadata": {},
     "output_type": "execute_result"
    }
   ],
   "source": [
    "from pyrpipe import pyrpipe_utils as pu\n",
    "#run blast\n",
    "\"\"\"NOTE: python 3.6 and higher keeps the order in which dict elements are inserted.\n",
    "To provide positional arguments use \"--\" as key followed by a tuple. for example:\n",
    "dict={'-threads':'10','--':('file1','file2')} will be parsed as\n",
    "\n",
    "-threads 10 file1 file2\n",
    "\n",
    "\"\"\"\n",
    "\n",
    "blast_parameters={'-query':'sample_data/test.fa',\n",
    "                  '-db': 'sample_data/pldb/mydb',\n",
    "                  '-qcov_hsp_perc': '30',\n",
    "                  '-num_threads': '2',\n",
    "                  '-out': 'sample_data/blast_out2'\n",
    "}\n",
    "\n",
    "blast_cmd=['blastx']\n",
    "\n",
    "param_list=pu.parse_unix_args([],blast_parameters) \n",
    "#Note: the first argument, valid_args_list, can be provided to ignore invalid arguments\n",
    "\n",
    "#add parameters\n",
    "blast_cmd.extend(param_list)\n",
    "pe.execute_command(blast_cmd,verbose=True,quiet=False,logs=False,objectid=\"\",command_name=\"\")\n",
    "\n",
    "#head the output\n",
    "pe.execute_command(['head','-20','sample_data/blast_out2'],verbose=True,quiet=False,logs=False,objectid=\"\",command_name=\"\")\n"
   ]
  },
  {
   "cell_type": "markdown",
   "metadata": {},
   "source": [
    "## Getting stdout from command\n",
    "The [`getShellOutput()`](https://pyrpipe.readthedocs.io/en/latest/pyrpipe.html#pyrpipe.pyrpipe_engine.getShellOutput) can directly return stdout, stderr and returncode as a tuple."
   ]
  },
  {
   "cell_type": "code",
   "execution_count": 17,
   "metadata": {},
   "outputs": [
    {
     "name": "stdout",
     "output_type": "stream",
     "text": [
      "(0, b'364K\\tsample_data/blast_out2\\n', None)\n"
     ]
    }
   ],
   "source": [
    "print(pe.getShellOutput(['du', '-sh','sample_data/blast_out2']))"
   ]
  },
  {
   "cell_type": "markdown",
   "metadata": {},
   "source": [
    "## Get realtime output from shell\n",
    "The `execute_commandRealtime()` produces outputs to screen in realtime."
   ]
  },
  {
   "cell_type": "code",
   "execution_count": 22,
   "metadata": {},
   "outputs": [
    {
     "name": "stdout",
     "output_type": "stream",
     "text": [
      "PING google.com (172.217.9.46) 56(84) bytes of data.\n",
      "\n",
      "64 bytes from ord38s08-in-f14.1e100.net (172.217.9.46): icmp_seq=1 ttl=52 time=14.6 ms\n",
      "\n",
      "64 bytes from ord38s08-in-f14.1e100.net (172.217.9.46): icmp_seq=2 ttl=52 time=14.6 ms\n",
      "\n",
      "64 bytes from ord38s08-in-f14.1e100.net (172.217.9.46): icmp_seq=3 ttl=52 time=14.6 ms\n",
      "\n",
      "64 bytes from ord38s08-in-f14.1e100.net (172.217.9.46): icmp_seq=4 ttl=52 time=14.6 ms\n",
      "\n",
      "\n",
      "\n",
      "--- google.com ping statistics ---\n",
      "\n",
      "4 packets transmitted, 4 received, 0% packet loss, time 3002ms\n",
      "\n",
      "rtt min/avg/max/mdev = 14.614/14.637/14.666/0.087 ms\n",
      "\n"
     ]
    }
   ],
   "source": [
    "cmd=['ping','-c','4','google.com']\n",
    "\n",
    "for output in pe.execute_commandRealtime(cmd):\n",
    "    print (output)"
   ]
  },
  {
   "cell_type": "code",
   "execution_count": null,
   "metadata": {},
   "outputs": [],
   "source": []
  }
 ],
 "metadata": {
  "kernelspec": {
   "display_name": "Python 3",
   "language": "python",
   "name": "python3"
  },
  "language_info": {
   "codemirror_mode": {
    "name": "ipython",
    "version": 3
   },
   "file_extension": ".py",
   "mimetype": "text/x-python",
   "name": "python",
   "nbconvert_exporter": "python",
   "pygments_lexer": "ipython3",
   "version": "3.7.5"
  }
 },
 "nbformat": 4,
 "nbformat_minor": 2
}
