{
 "cells": [
  {
   "cell_type": "code",
   "execution_count": 3,
   "metadata": {},
   "outputs": [],
   "source": [
    "from pyrpipe import sra,mapping,assembly,qc,tools\n",
    "from pyrpipe import pyrpipe_utils as pu\n",
    "from pyrpipe import pyrpipe_engine as pe\n",
    "#First get the srr accessions of the runs. For this one can use the python package pysradb or R package sradb\n",
    "#runs=['SRR3098746','SRR3098745','SRR3098744'] #from the study SRP068369\n",
    "runs=['SRR765545'] #small test\n",
    "#set up directories\n",
    "\n",
    "workingDir=\"maize_out\"\n",
    "#create working directory\n",
    "if not pu.check_paths_exist(workingDir):\n",
    "    pu.mkdir(workingDir)\n",
    "\n"
   ]
  },
  {
   "cell_type": "markdown",
   "metadata": {},
   "source": [
    "## Download Genome and GTF"
   ]
  },
  {
   "cell_type": "code",
   "execution_count": null,
   "metadata": {
    "scrolled": false
   },
   "outputs": [],
   "source": [
    "GENOME=workingDir+\"/Zea_mays.B73_RefGen_v4.dna.toplevel.fa\"\n",
    "GTF=workingDir+\"/Zea_mays.B73_RefGen_v4.46.gtf\"\n",
    "\n",
    "if not pu.check_files_exist(GENOME):\n",
    "    print(\"Downloading genome fasta file\")\n",
    "    wget=\"wget ftp://ftp.ensemblgenomes.org/pub/release-46/plants/fasta/zea_mays/dna/Zea_mays.B73_RefGen_v4.dna.toplevel.fa.gz -q -O \"+GENOME+\".gz\"\n",
    "    pe.execute_command(wget.split(),verbose=True,logs=False)\n",
    "    pe.execute_command(['gunzip',GENOME+\".gz\"],verbose=True,logs=False)\n",
    "    \n",
    "if not pu.check_files_exist(GTF):\n",
    "    print(\"Downloading GTF file\")\n",
    "    wget=\"wget ftp://ftp.ensemblgenomes.org/pub/release-46/plants/gtf/zea_mays/Zea_mays.B73_RefGen_v4.46.gtf.gz -q -O \"+GTF+\".gz\"\n",
    "    pe.execute_command(wget.split(),verbose=True,logs=False)\n",
    "    pe.execute_command(['gunzip',GTF+\".gz\"],verbose=True,logs=False)\n"
   ]
  },
  {
   "cell_type": "markdown",
   "metadata": {},
   "source": [
    "## Download data, pre-process"
   ]
  },
  {
   "cell_type": "code",
   "execution_count": 5,
   "metadata": {},
   "outputs": [
    {
     "name": "stdout",
     "output_type": "stream",
     "text": [
      "\u001b[95mDownloading SRR765545 ...\u001b[0m\n",
      "\u001b[94m$ prefetch -O maize_out/SRR765545 SRR765545\u001b[0m\n",
      "\u001b[92mTime taken:0:00:12\u001b[0m\n",
      "Downloaded file: maize_out/SRR765545/SRR765545.sra 500.4 MB \n",
      "\u001b[94m$ fasterq-dump -e 20 -f -t maize_out -O maize_out/SRR765545 -o SRR765545.fastq maize_out/SRR765545/SRR765545.sra\u001b[0m\n",
      "\u001b[92mTime taken:0:00:22\u001b[0m\n",
      "Performing QC using trim_galore\n",
      "\u001b[94m$ trim_galore --cores 10 --paired -o maize_out/SRR765545 maize_out/SRR765545/SRR765545_1.fastq maize_out/SRR765545/SRR765545_2.fastq\u001b[0m\n",
      "\u001b[92mTime taken:0:00:45\u001b[0m\n"
     ]
    }
   ],
   "source": [
    "sraObjects=[]\n",
    "for x in runs:\n",
    "    thisSraOb=sra.SRA(x,workingDir)\n",
    "    if thisSraOb.download_sra():\n",
    "        sraObjects.append(thisSraOb)\n",
    "    else:\n",
    "        print(\"Download failed:\"+x)\n",
    "        \n",
    "#perform fastq dump and qc\n",
    "\n",
    "#create a Trimgalore object\n",
    "tgOpts={\"--cores\": \"10\"}\n",
    "tg=qc.Trimgalore(**tgOpts)\n",
    "#NOTE: To download fastq directly, instaead of .sra, one can use the download_fastq() method\n",
    "for x in sraObjects:\n",
    "    #to fastq\n",
    "    x.run_fasterqdump(delete_sra=True,**{\"-e\":\"20\",\"-f\":\"\",\"-t\":workingDir}) #use 20 threads\n",
    "    #perform qc using trim galore\n",
    "    x.perform_qc(tg)\n",
    "    \n",
    "\n",
    "        "
   ]
  },
  {
   "cell_type": "markdown",
   "metadata": {},
   "source": [
    "## Map using STAR"
   ]
  },
  {
   "cell_type": "code",
   "execution_count": null,
   "metadata": {},
   "outputs": [
    {
     "name": "stdout",
     "output_type": "stream",
     "text": [
      "No STAR index provided. Please build index now to generate an index using build_index()....\n",
      "\u001b[94m$ STAR --runMode genomeGenerate --genomeDir maize_out/starindex --genomeFastaFiles maize_out/Zea_mays.B73_RefGen_v4.dna.toplevel.fa\u001b[0m\n"
     ]
    }
   ],
   "source": [
    "starParams={\"--outFilterType\":\"BySJout\",\n",
    "            \"--runThreadN\":\"8\",\n",
    "            \"--outSAMtype\": \"BAM SortedByCoordinate\"\n",
    "            }\n",
    "\n",
    "star=mapping.Star(star_index=\"\",**starParams) #provided index is invalid\n",
    "\n",
    "#create star index\n",
    "indexOut=workingDir+\"/starindex\"\n",
    "inFasta=GENOME\n",
    "star.build_index(indexOut,inFasta)\n",
    "\n"
   ]
  },
  {
   "cell_type": "markdown",
   "metadata": {},
   "source": [
    "## Transcript assembly using StringTie"
   ]
  },
  {
   "cell_type": "code",
   "execution_count": null,
   "metadata": {},
   "outputs": [],
   "source": [
    "#Create object for stringtie. This will be used for all the bam files.\n",
    "st=assembly.Stringtie(reference_gtf=GTF)\n",
    "gtfList=[]\n",
    "for x in sraObjects:\n",
    "    star_out_dir=star.perform_alignment(x,objectid=x.srr_accession)\n",
    "    bam=star_out_dir+\"/Aligned.sortedByCoord.out.bam\"\n",
    "    gtfList.append(st.perform_assembly(bam,objectid=x.srr_accession,**{\"-p\":\"25\"}))   \n",
    "\n",
    "print(gtfList)\n"
   ]
  },
  {
   "cell_type": "markdown",
   "metadata": {},
   "source": [
    "## lncRNA prediction using PLncPRO\n",
    "We will use [PLncPRO](https://github.com/urmi-21/PLncPRO) for prediction of lncRNAs. Currently, PLncPRO is not integrated into `pyrpipe` so we will use the `pyrpipe_engine` module directly to execute."
   ]
  },
  {
   "cell_type": "code",
   "execution_count": null,
   "metadata": {},
   "outputs": [],
   "source": [
    "#import pyrpipe modules\n",
    "from pyrpipe import pyrpipe_engine as pe\n",
    "#install plncpro\n",
    "pe.execute_command(\"pip install plncpro\".split(),verbose=True,quiet=False,logs=False)\n",
    "#OR\n",
    "#!pip install plncpro\n",
    "\n",
    "\n",
    "genome=\"maize_data/Zea_mays.B73_RefGen_v4.dna.toplevel.1_10.fa\"\n",
    "model=\"monocot_model/monocot.model\"\n",
    "blastdb=\"uniprot/uniprotdb\"\n",
    "for i in range(len(gtfList)):\n",
    "    thisOb=sraObjects[i]\n",
    "    #first extract transcripts using gffread\n",
    "    tx_file=thisOb.location+\"/transcripts.fa\"\n",
    "    cmd=\"gffread -w \"+tx_file+\" -g maize_data/Zea_mays.B73_RefGen_v4.dna.toplevel.1_10.fa \"+gtfList[i]\n",
    "    pe.execute_command(cmd.split(\" \"),verbose=False,quiet=False,logs=True,objectid=thisOb.srr_accession,command_name=\"gffread\")\n",
    "    \n",
    "    #Optional step use biopython to filter transcripts by len\n",
    "    #out_file=thisOb.location+\"/transcripts_filter.fa\"\n",
    "    #output_handle = open(out_file, \"w\")\n",
    "    #for record in SeqIO.parse(tx_file, \"fasta\"):\n",
    "        # keep tx between 200 and 1000\n",
    "    #    if len(record)>=500 and len(record)<=1000:\n",
    "    #        #write to temp file\n",
    "    #        SeqIO.write(record, output_handle, \"fasta\")\n",
    "\n",
    "    \n",
    "    #run plncpro\n",
    "    outdir=thisOb.location+\"/plncpro_out\"\n",
    "    outfile=\"plncpro_predictions\"\n",
    "    cmd=\"plncpro predict -i \"+tx_file+\" -o \"+outdir+\" -p \"+outfile+\" -t 25 --min_len 200 -d \"+blastdb+\" -m \"+model+\" -v -r\"\n",
    "    pe.execute_command(cmd.split(),verbose=False,quiet=False,logs=True,objectid=thisOb.srr_accession,command_name=\"plncpro predict\")\n",
    "        \n"
   ]
  },
  {
   "cell_type": "markdown",
   "metadata": {},
   "source": [
    "## Generate reports"
   ]
  },
  {
   "cell_type": "code",
   "execution_count": null,
   "metadata": {},
   "outputs": [],
   "source": [
    "#NOTE: Following commands are executed in shell, hence the ! before each command\n",
    "!pyrpipe_diagnostic.py report pyrpipe_logs/2020-01-22-18_14_47_pyrpipe.log\n",
    "!pyrpipe_diagnostic.py benchmark pyrpipe_logs/2020-01-22-18_14_47_pyrpipe.log\n",
    "!pyrpipe_diagnostic.py shell pyrpipe_logs/2020-01-22-18_14_47_pyrpipe.log\n",
    "!pyrpipe_diagnostic.py multiqc -o ./multiqc_report pyrpipe_logs/2020-01-22-18_14_47_pyrpipe.log\n"
   ]
  },
  {
   "cell_type": "code",
   "execution_count": null,
   "metadata": {},
   "outputs": [],
   "source": []
  }
 ],
 "metadata": {
  "kernelspec": {
   "display_name": "Python 3",
   "language": "python",
   "name": "python3"
  },
  "language_info": {
   "codemirror_mode": {
    "name": "ipython",
    "version": 3
   },
   "file_extension": ".py",
   "mimetype": "text/x-python",
   "name": "python",
   "nbconvert_exporter": "python",
   "pygments_lexer": "ipython3",
   "version": "3.7.5"
  }
 },
 "nbformat": 4,
 "nbformat_minor": 2
}
