{
 "cells": [
  {
   "cell_type": "markdown",
   "metadata": {},
   "source": [
    "# Integrating third-party tools in *pyrpipe*\n",
    "Executing any shell command with pyrpipe is easy and straight-forward. The `pyrpipe_engine` module provides helper functions to easily execute and log shell commands. Examples are provided below"
   ]
  },
  {
   "cell_type": "code",
   "execution_count": 2,
   "metadata": {},
   "outputs": [
    {
     "name": "stdout",
     "output_type": "stream",
     "text": [
      "\u001b[93mLogs will be saved to 2020-04-27-17_20_37_pyrpipe.log\u001b[0m\n",
      "\u001b[94m$ ls -l\u001b[0m\n",
      "\u001b[94mSTDOUT:\n",
      "total 32\n",
      "drwxr-xr-x 4 usingh usingh  4096 Mar 21 00:45 Athaliana_transcript_assembly\n",
      "drwxr-xr-x 2 usingh usingh  4096 Mar 21 00:45 Human_annotation_snakemake\n",
      "-rw-r--r-- 1 usingh usingh 10952 Apr 27 17:20 Integrating third-party tools.ipynb\n",
      "drwxr-xr-x 6 usingh usingh  4096 Mar 23 13:16 Maize_lncRNA_prediction\n",
      "drwxr-xr-x 2 usingh usingh  4096 Apr 27 17:20 pyrpipe_logs\n",
      "drwxr-xr-x 3 usingh usingh  4096 Feb 27 12:16 sample_data\n",
      "\u001b[0m\n",
      "\u001b[92mTime taken:0:00:00\u001b[0m\n"
     ]
    },
    {
     "data": {
      "text/plain": [
       "True"
      ]
     },
     "execution_count": 2,
     "metadata": {},
     "output_type": "execute_result"
    }
   ],
   "source": [
    "#Import necessary modules\n",
    "from pyrpipe import pyrpipe_engine as pe\n",
    "\n",
    "#run a shell commad\n",
    "pe.execute_command(['ls', '-l'],verbose=True,quiet=False,logs=False,objectid=\"NA\",command_name=\"\")"
   ]
  },
  {
   "cell_type": "markdown",
   "metadata": {},
   "source": [
    "Example above executes a simple `ls -l` command. The command is not logged (`logs=False`) and the stdout is printed to screen as `verbose=True`. The definition of [`execute_command()`](https://pyrpipe.readthedocs.io/en/latest/pyrpipe.html#pyrpipe.pyrpipe_engine.execute_command) is as follows:\n",
    "\n",
    "`\n",
    "execute_command(cmd,verbose=False,quiet=False,logs=True,objectid=\"NA\",command_name=\"\")\n",
    "`\n",
    "The first argument `cmd` contains the shell command to be executed. This is in a list format. To run a more complex command with multiple arguments user has different options."
   ]
  },
  {
   "cell_type": "markdown",
   "metadata": {},
   "source": [
    "## Commands in a `string`\n",
    "A command in a `string` for mat can be easily converted to a list."
   ]
  },
  {
   "cell_type": "code",
   "execution_count": 2,
   "metadata": {},
   "outputs": [
    {
     "name": "stdout",
     "output_type": "stream",
     "text": [
      "\u001b[94m$ blastx -query sample_data/test.fa -db sample_data/pldb/mydb -qcov_hsp_perc 30 -num_threads 2 -out sample_data/blast_out\u001b[0m\n",
      "\u001b[92mTime taken:0:00:04\u001b[0m\n",
      "\u001b[94m$ head -20 sample_data/blast_out\u001b[0m\n",
      "\u001b[94mSTDOUT:\n",
      "BLASTX 2.7.1+\n",
      "\n",
      "\n",
      "Reference: Stephen F. Altschul, Thomas L. Madden, Alejandro A.\n",
      "Schaffer, Jinghui Zhang, Zheng Zhang, Webb Miller, and David J.\n",
      "Lipman (1997), \"Gapped BLAST and PSI-BLAST: a new generation of\n",
      "protein database search programs\", Nucleic Acids Res. 25:3389-3402.\n",
      "\n",
      "\n",
      "\n",
      "Database: mydb\n",
      "           250 sequences; 128,483 total letters\n",
      "\n",
      "\n",
      "\n",
      "Query= CNT0043697\n",
      "\n",
      "Length=699\n",
      "\n",
      "\n",
      "\u001b[0m\n",
      "\u001b[92mTime taken:0:00:00\u001b[0m\n"
     ]
    },
    {
     "data": {
      "text/plain": [
       "True"
      ]
     },
     "execution_count": 2,
     "metadata": {},
     "output_type": "execute_result"
    }
   ],
   "source": [
    "cmd=\"blastx -query sample_data/test.fa -db sample_data/pldb/mydb -qcov_hsp_perc 30 -num_threads 2 -out sample_data/blast_out\"\n",
    "cmdList=cmd.split()\n",
    "pe.execute_command(cmdList,verbose=True,quiet=False,logs=False,objectid=\"\",command_name=\"\")\n",
    "\n",
    "#head the output\n",
    "pe.execute_command(['head','-20','sample_data/blast_out'],verbose=True,quiet=False,logs=False,objectid=\"\",command_name=\"\")"
   ]
  },
  {
   "cell_type": "markdown",
   "metadata": {},
   "source": [
    "## Commands in a `dict`\n",
    "The `pyrpipe_utils` module contains helper functions [`parse_unix_args()`](https://pyrpipe.readthedocs.io/en/latest/pyrpipe.html#pyrpipe.pyrpipe_utils.parse_unix_args) and [`parse_java_args()`](https://pyrpipe.readthedocs.io/en/latest/pyrpipe.html#pyrpipe.pyrpipe_utils.parse_java_args) to convert commands in a `dict` to a list. This option can be useful to read commands or rules stored in .json format and execute them with pyrpipe."
   ]
  },
  {
   "cell_type": "code",
   "execution_count": 3,
   "metadata": {},
   "outputs": [
    {
     "name": "stdout",
     "output_type": "stream",
     "text": [
      "\u001b[94m$ blastx -query sample_data/test.fa -db sample_data/pldb/mydb -qcov_hsp_perc 30 -num_threads 2 -out sample_data/blast_out2\u001b[0m\n",
      "\u001b[92mTime taken:0:00:03\u001b[0m\n",
      "\u001b[94m$ head -20 sample_data/blast_out2\u001b[0m\n",
      "\u001b[94mSTDOUT:\n",
      "BLASTX 2.7.1+\n",
      "\n",
      "\n",
      "Reference: Stephen F. Altschul, Thomas L. Madden, Alejandro A.\n",
      "Schaffer, Jinghui Zhang, Zheng Zhang, Webb Miller, and David J.\n",
      "Lipman (1997), \"Gapped BLAST and PSI-BLAST: a new generation of\n",
      "protein database search programs\", Nucleic Acids Res. 25:3389-3402.\n",
      "\n",
      "\n",
      "\n",
      "Database: mydb\n",
      "           250 sequences; 128,483 total letters\n",
      "\n",
      "\n",
      "\n",
      "Query= CNT0043697\n",
      "\n",
      "Length=699\n",
      "\n",
      "\n",
      "\u001b[0m\n",
      "\u001b[92mTime taken:0:00:00\u001b[0m\n"
     ]
    },
    {
     "data": {
      "text/plain": [
       "True"
      ]
     },
     "execution_count": 3,
     "metadata": {},
     "output_type": "execute_result"
    }
   ],
   "source": [
    "from pyrpipe import pyrpipe_utils as pu\n",
    "#run blast\n",
    "\"\"\"NOTE: python 3.6 and higher keeps the order in which dict elements are inserted.\n",
    "To provide positional arguments use \"--\" as key followed by a tuple. for example:\n",
    "dict={'-threads':'10','--':('file1','file2')} will be parsed as\n",
    "\n",
    "-threads 10 file1 file2\n",
    "\n",
    "\"\"\"\n",
    "\n",
    "blast_parameters={'-query':'sample_data/test.fa',\n",
    "                  '-db': 'sample_data/pldb/mydb',\n",
    "                  '-qcov_hsp_perc': '30',\n",
    "                  '-num_threads': '2',\n",
    "                  '-out': 'sample_data/blast_out2'\n",
    "}\n",
    "\n",
    "blast_cmd=['blastx']\n",
    "\n",
    "param_list=pu.parse_unix_args([],blast_parameters) \n",
    "#Note: the first argument, valid_args_list, can be provided to ignore invalid arguments\n",
    "\n",
    "#add parameters\n",
    "blast_cmd.extend(param_list)\n",
    "pe.execute_command(blast_cmd,verbose=True,quiet=False,logs=False,objectid=\"\",command_name=\"\")\n",
    "\n",
    "#head the output\n",
    "pe.execute_command(['head','-20','sample_data/blast_out2'],verbose=True,quiet=False,logs=False,objectid=\"\",command_name=\"\")\n"
   ]
  },
  {
   "cell_type": "markdown",
   "metadata": {},
   "source": [
    "## Getting stdout from command\n",
    "The [`getShellOutput()`](https://pyrpipe.readthedocs.io/en/latest/pyrpipe.html#pyrpipe.pyrpipe_engine.getShellOutput) can directly return stdout, stderr and returncode as a tuple."
   ]
  },
  {
   "cell_type": "code",
   "execution_count": 5,
   "metadata": {},
   "outputs": [
    {
     "name": "stdout",
     "output_type": "stream",
     "text": [
      "(0, b'364K\\tsample_data/blast_out2\\n', None)\n",
      "364K\tsample_data/blast_out2\n",
      "\n"
     ]
    }
   ],
   "source": [
    "result=pe.getShellOutput(['du', '-sh','sample_data/blast_out2'])\n",
    "#result contains return code, stdout, stderr\n",
    "print(result)\n",
    "\n",
    "#check if command was successful\n",
    "if result[0] == 0:\n",
    "    #get the stdout as string\n",
    "    print(result[1].decode(\"utf-8\"))\n",
    "    "
   ]
  },
  {
   "cell_type": "markdown",
   "metadata": {},
   "source": [
    "## Get realtime output from shell\n",
    "The `execute_commandRealtime()` produces outputs to screen in realtime."
   ]
  },
  {
   "cell_type": "code",
   "execution_count": 5,
   "metadata": {},
   "outputs": [
    {
     "name": "stdout",
     "output_type": "stream",
     "text": [
      "PING google.com (172.217.8.206) 56(84) bytes of data.\n",
      "\n",
      "64 bytes from ord37s09-in-f14.1e100.net (172.217.8.206): icmp_seq=1 ttl=53 time=20.1 ms\n",
      "\n",
      "64 bytes from ord37s09-in-f14.1e100.net (172.217.8.206): icmp_seq=2 ttl=53 time=20.1 ms\n",
      "\n",
      "64 bytes from ord37s09-in-f14.1e100.net (172.217.8.206): icmp_seq=3 ttl=53 time=20.1 ms\n",
      "\n",
      "64 bytes from ord37s09-in-f14.1e100.net (172.217.8.206): icmp_seq=4 ttl=53 time=20.0 ms\n",
      "\n",
      "\n",
      "\n",
      "--- google.com ping statistics ---\n",
      "\n",
      "4 packets transmitted, 4 received, 0% packet loss, time 3003ms\n",
      "\n",
      "rtt min/avg/max/mdev = 20.087/20.140/20.193/0.146 ms\n",
      "\n"
     ]
    }
   ],
   "source": [
    "cmd=['ping','-c','4','google.com']\n",
    "\n",
    "for output in pe.execute_commandRealtime(cmd):\n",
    "    print (output)"
   ]
  },
  {
   "cell_type": "code",
   "execution_count": null,
   "metadata": {},
   "outputs": [],
   "source": []
  }
 ],
 "metadata": {
  "kernelspec": {
   "display_name": "Python 3",
   "language": "python",
   "name": "python3"
  },
  "language_info": {
   "codemirror_mode": {
    "name": "ipython",
    "version": 3
   },
   "file_extension": ".py",
   "mimetype": "text/x-python",
   "name": "python",
   "nbconvert_exporter": "python",
   "pygments_lexer": "ipython3",
   "version": "3.6.9"
  }
 },
 "nbformat": 4,
 "nbformat_minor": 2
}
