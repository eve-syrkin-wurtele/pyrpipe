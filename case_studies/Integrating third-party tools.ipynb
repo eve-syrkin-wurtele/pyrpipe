{
 "cells": [
  {
   "cell_type": "markdown",
   "metadata": {},
   "source": [
    "# Integrating third-party tools in *pyrpipe*\n",
    "Executing any shell command with pyrpipe is easy and straight-forward. \n",
    "\n",
    "The `Runnable` class can used to import any Unix command into python in an object oriented manner. The `Runnable` class executes all commands via the `pyrpipe_engine` module, which provides helper functions to easily execute and log shell commands. \n",
    "Users can directly use `execute_command()` function from `pyrpipe_engine` to directly run Unix commands."
   ]
  },
  {
   "cell_type": "markdown",
   "metadata": {},
   "source": [
    "## The Runnable class\n",
    "\n",
    "To import a Unix command one can directly create a Runnable object and specify the command name. The following example imports the [orfipy](https://github.com/urmi-21/orfipy) command into python."
   ]
  },
  {
   "cell_type": "code",
   "execution_count": 1,
   "metadata": {},
   "outputs": [
    {
     "ename": "ModuleNotFoundError",
     "evalue": "No module named 'pyrpipe'",
     "output_type": "error",
     "traceback": [
      "\u001b[0;31m---------------------------------------------------------------------------\u001b[0m",
      "\u001b[0;31mModuleNotFoundError\u001b[0m                       Traceback (most recent call last)",
      "\u001b[0;32m<ipython-input-1-63ad9c26707c>\u001b[0m in \u001b[0;36m<module>\u001b[0;34m()\u001b[0m\n\u001b[0;32m----> 1\u001b[0;31m \u001b[0;32mfrom\u001b[0m \u001b[0mpyrpipe\u001b[0m\u001b[0;34m.\u001b[0m\u001b[0mrunnable\u001b[0m \u001b[0;32mimport\u001b[0m \u001b[0mRunnable\u001b[0m\u001b[0;34m\u001b[0m\u001b[0;34m\u001b[0m\u001b[0m\n\u001b[0m\u001b[1;32m      2\u001b[0m \u001b[0morfipy\u001b[0m\u001b[0;34m=\u001b[0m\u001b[0mRunnable\u001b[0m\u001b[0;34m(\u001b[0m\u001b[0mcommand\u001b[0m\u001b[0;34m=\u001b[0m\u001b[0;34m'orfipy'\u001b[0m\u001b[0;34m)\u001b[0m\u001b[0;34m\u001b[0m\u001b[0;34m\u001b[0m\u001b[0m\n\u001b[1;32m      3\u001b[0m \u001b[0;31m#specify orfipy options; these can be specified into orfipy.yaml too\u001b[0m\u001b[0;34m\u001b[0m\u001b[0;34m\u001b[0m\u001b[0;34m\u001b[0m\u001b[0m\n\u001b[1;32m      4\u001b[0m \u001b[0mparam\u001b[0m\u001b[0;34m=\u001b[0m\u001b[0;34m{\u001b[0m\u001b[0;34m'--outdir'\u001b[0m\u001b[0;34m:\u001b[0m\u001b[0;34m'orfipy_out'\u001b[0m\u001b[0;34m,\u001b[0m\u001b[0;34m'--procs'\u001b[0m\u001b[0;34m:\u001b[0m\u001b[0;34m'3'\u001b[0m\u001b[0;34m,\u001b[0m\u001b[0;34m'--dna'\u001b[0m\u001b[0;34m:\u001b[0m\u001b[0;34m'orfs.fa'\u001b[0m\u001b[0;34m}\u001b[0m\u001b[0;34m\u001b[0m\u001b[0;34m\u001b[0m\u001b[0m\n\u001b[1;32m      5\u001b[0m \u001b[0morfipy\u001b[0m\u001b[0;34m.\u001b[0m\u001b[0mrun\u001b[0m\u001b[0;34m(\u001b[0m\u001b[0minfile\u001b[0m\u001b[0;34m,\u001b[0m\u001b[0;34m**\u001b[0m\u001b[0mparam\u001b[0m\u001b[0;34m)\u001b[0m\u001b[0;34m\u001b[0m\u001b[0;34m\u001b[0m\u001b[0m\n",
      "\u001b[0;31mModuleNotFoundError\u001b[0m: No module named 'pyrpipe'"
     ]
    }
   ],
   "source": [
    "from pyrpipe.runnable import Runnable\n",
    "orfipy=Runnable(command='orfipy')\n",
    "#specify orfipy options; these can be specified into orfipy.yaml too\n",
    "param={'--outdir':'orfipy_out','--procs':'3','--dna':'orfs.fa'}\n",
    "orfipy.run(infile,**param)"
   ]
  },
  {
   "cell_type": "markdown",
   "metadata": {},
   "source": [
    "### Targets and dependencies\n",
    "One can specify required dependencies and expected target files in the run() method\n",
    "Replacing the call to `run()` with the following will verify the required files and the target files.\n",
    "If command is interrupted, pyrpipe will scan for `Locked` taget files and resume from where the pipeline was interrupted."
   ]
  },
  {
   "cell_type": "code",
   "execution_count": null,
   "metadata": {},
   "outputs": [],
   "source": [
    "orfipy.run(infile,requires=infile,target='orfipy_out/orfs.fa',**param)"
   ]
  },
  {
   "cell_type": "markdown",
   "metadata": {},
   "source": [
    "## Building APIs\n",
    "One can extend the Runnable class to provide custom APIs to Unix tools. The RNA-Seq API provided by pyrpipe uses this framework. As a small example is provided in the [tutorial](https://pyrpipe.readthedocs.io/en/latest/?badge=latest)"
   ]
  },
  {
   "cell_type": "markdown",
   "metadata": {},
   "source": [
    "## The pyrpipe_engine module\n",
    "\n",
    "The `pyrpipe_engine` module contains the necessary functions to execute the commands. User can directly use these functions to run commands. All these function are decorated by the `dryable` decorator and are automatically turned off if pyrpipe scripts are run with `--dry-run` option.\n",
    "\n",
    "A list of these functions is provided here. For details refer to the [API docs](https://pyrpipe.readthedocs.io/en/latest/?badge=latest)\n",
    "\n",
    "| Function | Description |\n",
    "| --- | --- |\n",
    "| execute_command | Runs a command, logs the status and returns the status (True or False) |\n",
    "| get_shell_output | Runs a command and returns a tuple (returncode, stdout and stderr) |\n",
    "| get_return_status | Runs a command and returns True if command succeeded or False otherwise |\n",
    "| execute_commandRealtime | Runs a command and print output in real-time |\n"
   ]
  },
  {
   "cell_type": "markdown",
   "metadata": {},
   "source": [
    "### The execute_command() method\n",
    "\n",
    "Execute a command, log the details and return the status (True or False).\n",
    "\n",
    "The following example executes a simple `ls -l` command. The command is not logged (`logs=False`) and the stdout is printed to screen as (`verbose=True`). See API docs for more information [`execute_command()`](https://pyrpipe.readthedocs.io/en/latest/pyrpipe.html#pyrpipe.pyrpipe_engine.execute_command)\n",
    "\n"
   ]
  },
  {
   "cell_type": "code",
   "execution_count": 3,
   "metadata": {},
   "outputs": [
    {
     "ename": "ModuleNotFoundError",
     "evalue": "No module named 'pyrpipe'",
     "output_type": "error",
     "traceback": [
      "\u001b[0;31m---------------------------------------------------------------------------\u001b[0m",
      "\u001b[0;31mModuleNotFoundError\u001b[0m                       Traceback (most recent call last)",
      "\u001b[0;32m<ipython-input-3-eba60a39c4ec>\u001b[0m in \u001b[0;36m<module>\u001b[0;34m()\u001b[0m\n\u001b[1;32m      1\u001b[0m \u001b[0;31m#Import necessary modules\u001b[0m\u001b[0;34m\u001b[0m\u001b[0;34m\u001b[0m\u001b[0;34m\u001b[0m\u001b[0m\n\u001b[0;32m----> 2\u001b[0;31m \u001b[0;32mfrom\u001b[0m \u001b[0mpyrpipe\u001b[0m \u001b[0;32mimport\u001b[0m \u001b[0mpyrpipe_engine\u001b[0m \u001b[0;32mas\u001b[0m \u001b[0mpe\u001b[0m\u001b[0;34m\u001b[0m\u001b[0;34m\u001b[0m\u001b[0m\n\u001b[0m\u001b[1;32m      3\u001b[0m \u001b[0;34m\u001b[0m\u001b[0m\n\u001b[1;32m      4\u001b[0m \u001b[0;31m#run a shell commad\u001b[0m\u001b[0;34m\u001b[0m\u001b[0;34m\u001b[0m\u001b[0;34m\u001b[0m\u001b[0m\n\u001b[1;32m      5\u001b[0m \u001b[0mpe\u001b[0m\u001b[0;34m.\u001b[0m\u001b[0mexecute_command\u001b[0m\u001b[0;34m(\u001b[0m\u001b[0;34m[\u001b[0m\u001b[0;34m'ls'\u001b[0m\u001b[0;34m,\u001b[0m \u001b[0;34m'-l'\u001b[0m\u001b[0;34m]\u001b[0m\u001b[0;34m,\u001b[0m\u001b[0mlogs\u001b[0m\u001b[0;34m=\u001b[0m\u001b[0;32mFalse\u001b[0m\u001b[0;34m,\u001b[0m\u001b[0mverbose\u001b[0m\u001b[0;34m=\u001b[0m\u001b[0;32mTrue\u001b[0m\u001b[0;34m)\u001b[0m\u001b[0;34m\u001b[0m\u001b[0;34m\u001b[0m\u001b[0m\n",
      "\u001b[0;31mModuleNotFoundError\u001b[0m: No module named 'pyrpipe'"
     ]
    }
   ],
   "source": [
    "#Import necessary modules\n",
    "from pyrpipe import pyrpipe_engine as pe\n",
    "\n",
    "#run a shell commad\n",
    "pe.execute_command(['ls', '-l'],logs=False,verbose=True)"
   ]
  },
  {
   "cell_type": "markdown",
   "metadata": {},
   "source": [
    "## Commands in a `string`\n",
    "A command in a `string` for mat can be easily converted to a list."
   ]
  },
  {
   "cell_type": "code",
   "execution_count": 2,
   "metadata": {},
   "outputs": [
    {
     "name": "stdout",
     "output_type": "stream",
     "text": [
      "\u001b[94m$ blastx -query sample_data/test.fa -db sample_data/pldb/mydb -qcov_hsp_perc 30 -num_threads 2 -out sample_data/blast_out\u001b[0m\n",
      "\u001b[92mTime taken:0:00:04\u001b[0m\n",
      "\u001b[94m$ head -20 sample_data/blast_out\u001b[0m\n",
      "\u001b[94mSTDOUT:\n",
      "BLASTX 2.7.1+\n",
      "\n",
      "\n",
      "Reference: Stephen F. Altschul, Thomas L. Madden, Alejandro A.\n",
      "Schaffer, Jinghui Zhang, Zheng Zhang, Webb Miller, and David J.\n",
      "Lipman (1997), \"Gapped BLAST and PSI-BLAST: a new generation of\n",
      "protein database search programs\", Nucleic Acids Res. 25:3389-3402.\n",
      "\n",
      "\n",
      "\n",
      "Database: mydb\n",
      "           250 sequences; 128,483 total letters\n",
      "\n",
      "\n",
      "\n",
      "Query= CNT0043697\n",
      "\n",
      "Length=699\n",
      "\n",
      "\n",
      "\u001b[0m\n",
      "\u001b[92mTime taken:0:00:00\u001b[0m\n"
     ]
    },
    {
     "data": {
      "text/plain": [
       "True"
      ]
     },
     "execution_count": 2,
     "metadata": {},
     "output_type": "execute_result"
    }
   ],
   "source": [
    "cmd=\"blastx -query sample_data/test.fa -db sample_data/pldb/mydb -qcov_hsp_perc 30 -num_threads 2 -out sample_data/blast_out\"\n",
    "cmdList=cmd.split()\n",
    "pe.execute_command(cmdList,verbose=True,logs=False,objectid=\"\",command_name=\"\")\n",
    "\n",
    "#head the output\n",
    "pe.execute_command(['head','-20','sample_data/blast_out'],verbose=True,logs=False,objectid=\"\",command_name=\"\")"
   ]
  },
  {
   "cell_type": "markdown",
   "metadata": {},
   "source": [
    "## Commands in a `dict`\n",
    "The `pyrpipe_utils` module contains helper functions [`parse_unix_args()`](https://pyrpipe.readthedocs.io/en/latest/pyrpipe.html#pyrpipe.pyrpipe_utils.parse_unix_args) and [`parse_java_args()`](https://pyrpipe.readthedocs.io/en/latest/pyrpipe.html#pyrpipe.pyrpipe_utils.parse_java_args) to convert commands in a `dict` to a list. This option can be useful to read commands or rules stored in .json format and execute them with pyrpipe."
   ]
  },
  {
   "cell_type": "code",
   "execution_count": 3,
   "metadata": {},
   "outputs": [
    {
     "name": "stdout",
     "output_type": "stream",
     "text": [
      "\u001b[94m$ blastx -query sample_data/test.fa -db sample_data/pldb/mydb -qcov_hsp_perc 30 -num_threads 2 -out sample_data/blast_out2\u001b[0m\n",
      "\u001b[92mTime taken:0:00:03\u001b[0m\n",
      "\u001b[94m$ head -20 sample_data/blast_out2\u001b[0m\n",
      "\u001b[94mSTDOUT:\n",
      "BLASTX 2.7.1+\n",
      "\n",
      "\n",
      "Reference: Stephen F. Altschul, Thomas L. Madden, Alejandro A.\n",
      "Schaffer, Jinghui Zhang, Zheng Zhang, Webb Miller, and David J.\n",
      "Lipman (1997), \"Gapped BLAST and PSI-BLAST: a new generation of\n",
      "protein database search programs\", Nucleic Acids Res. 25:3389-3402.\n",
      "\n",
      "\n",
      "\n",
      "Database: mydb\n",
      "           250 sequences; 128,483 total letters\n",
      "\n",
      "\n",
      "\n",
      "Query= CNT0043697\n",
      "\n",
      "Length=699\n",
      "\n",
      "\n",
      "\u001b[0m\n",
      "\u001b[92mTime taken:0:00:00\u001b[0m\n"
     ]
    },
    {
     "data": {
      "text/plain": [
       "True"
      ]
     },
     "execution_count": 3,
     "metadata": {},
     "output_type": "execute_result"
    }
   ],
   "source": [
    "from pyrpipe import pyrpipe_utils as pu\n",
    "#run blast\n",
    "\"\"\"NOTE: python 3.6 and higher keeps the order in which dict elements are inserted.\n",
    "To provide positional arguments use \"--\" as key followed by a tuple. for example:\n",
    "dict={'-threads':'10','--':('file1','file2')} will be parsed as\n",
    "\n",
    "-threads 10 file1 file2\n",
    "\n",
    "\"\"\"\n",
    "\n",
    "blast_parameters={'-query':'sample_data/test.fa',\n",
    "                  '-db': 'sample_data/pldb/mydb',\n",
    "                  '-qcov_hsp_perc': '30',\n",
    "                  '-num_threads': '2',\n",
    "                  '-out': 'sample_data/blast_out2'\n",
    "}\n",
    "\n",
    "blast_cmd=['blastx']\n",
    "\n",
    "param_list=pu.parse_unix_args([],blast_parameters) \n",
    "#Note: the first argument, valid_args_list, can be provided to ignore invalid arguments\n",
    "\n",
    "#add parameters\n",
    "blast_cmd.extend(param_list)\n",
    "pe.execute_command(blast_cmd,verbose=True,quiet=False,logs=False,objectid=\"\",command_name=\"\")\n",
    "\n",
    "#head the output\n",
    "pe.execute_command(['head','-20','sample_data/blast_out2'],verbose=True,quiet=False,logs=False,objectid=\"\",command_name=\"\")\n"
   ]
  },
  {
   "cell_type": "markdown",
   "metadata": {},
   "source": [
    "## Getting stdout from command\n",
    "The [`getShellOutput()`](https://pyrpipe.readthedocs.io/en/latest/pyrpipe.html#pyrpipe.pyrpipe_engine.getShellOutput) can directly return stdout, stderr and returncode as a tuple."
   ]
  },
  {
   "cell_type": "code",
   "execution_count": 5,
   "metadata": {},
   "outputs": [
    {
     "name": "stdout",
     "output_type": "stream",
     "text": [
      "(0, b'364K\\tsample_data/blast_out2\\n', None)\n",
      "364K\tsample_data/blast_out2\n",
      "\n"
     ]
    }
   ],
   "source": [
    "result=pe.getShellOutput(['du', '-sh','sample_data/blast_out2'])\n",
    "#result contains return code, stdout, stderr\n",
    "print(result)\n",
    "\n",
    "#check if command was successful\n",
    "if result[0] == 0:\n",
    "    #get the stdout as string\n",
    "    print(result[1].decode(\"utf-8\"))\n",
    "    "
   ]
  },
  {
   "cell_type": "markdown",
   "metadata": {},
   "source": [
    "## Get realtime output from shell\n",
    "The `execute_commandRealtime()` produces outputs to screen in realtime."
   ]
  },
  {
   "cell_type": "code",
   "execution_count": 5,
   "metadata": {},
   "outputs": [
    {
     "name": "stdout",
     "output_type": "stream",
     "text": [
      "PING google.com (172.217.8.206) 56(84) bytes of data.\n",
      "\n",
      "64 bytes from ord37s09-in-f14.1e100.net (172.217.8.206): icmp_seq=1 ttl=53 time=20.1 ms\n",
      "\n",
      "64 bytes from ord37s09-in-f14.1e100.net (172.217.8.206): icmp_seq=2 ttl=53 time=20.1 ms\n",
      "\n",
      "64 bytes from ord37s09-in-f14.1e100.net (172.217.8.206): icmp_seq=3 ttl=53 time=20.1 ms\n",
      "\n",
      "64 bytes from ord37s09-in-f14.1e100.net (172.217.8.206): icmp_seq=4 ttl=53 time=20.0 ms\n",
      "\n",
      "\n",
      "\n",
      "--- google.com ping statistics ---\n",
      "\n",
      "4 packets transmitted, 4 received, 0% packet loss, time 3003ms\n",
      "\n",
      "rtt min/avg/max/mdev = 20.087/20.140/20.193/0.146 ms\n",
      "\n"
     ]
    }
   ],
   "source": [
    "cmd=['ping','-c','4','google.com']\n",
    "\n",
    "for output in pe.execute_commandRealtime(cmd):\n",
    "    print (output)"
   ]
  },
  {
   "cell_type": "code",
   "execution_count": null,
   "metadata": {},
   "outputs": [],
   "source": []
  }
 ],
 "metadata": {
  "kernelspec": {
   "display_name": "Python 3",
   "language": "python",
   "name": "python3"
  },
  "language_info": {
   "codemirror_mode": {
    "name": "ipython",
    "version": 3
   },
   "file_extension": ".py",
   "mimetype": "text/x-python",
   "name": "python",
   "nbconvert_exporter": "python",
   "pygments_lexer": "ipython3",
   "version": "3.6.9"
  }
 },
 "nbformat": 4,
 "nbformat_minor": 2
}
